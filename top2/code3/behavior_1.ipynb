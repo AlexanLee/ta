{
 "cells": [
  {
   "cell_type": "markdown",
   "metadata": {},
   "source": [
    "### 使用应用行为数据和APP数据构造特征进行与训练\n",
    "\n",
    "应用数据：每个设备上各个应用的打开、关闭行为数据【deviceid_package_start_close.tsv】  \n",
    "\n",
    "APP数据：每个应用的类别信息【package_label.tsv】\n",
    "\n",
    "训练数据：每个设备对应的性别、年龄段【deviceid_train.tsv】\n",
    "\n",
    "测试数据：提供设备ID供参赛者进行模型验证【deviceid_test.tsv】"
   ]
  },
  {
   "cell_type": "code",
   "execution_count": 2,
   "metadata": {},
   "outputs": [],
   "source": [
    "import time\n",
    "import pandas as pd\n",
    "from help_function import LoadData"
   ]
  },
  {
   "cell_type": "code",
   "execution_count": 3,
   "metadata": {},
   "outputs": [],
   "source": [
    "# 行为数据\n",
    "behavior = pd.read_csv('../Demo/deviceid_package_start_close.tsv',sep='\\t',\n",
    "                       names = ['device_id','app_id','start','close'])\n",
    "\n",
    "# 应用label数据\n",
    "app_label = pd.read_csv('../Demo/package_label.tsv',sep='\\t',\n",
    "                        names=['app_id','label_1','label_2'])\n",
    "app_label.label_1 = app_label.label_1.apply(lambda x:x.split('(')[0])\n",
    "app_label.label_2 = app_label.label_2.apply(lambda x:x.split('/')[0])"
   ]
  },
  {
   "cell_type": "code",
   "execution_count": 4,
   "metadata": {},
   "outputs": [],
   "source": [
    "def TransTimestamp(x):\n",
    "    timeArray = time.localtime(float(x)/1000)\n",
    "    otherStyleTime = time.strftime(\"%Y-%m-%d %H:%M:%S\", timeArray)\n",
    "    return otherStyleTime\n",
    "def TransTt2Date(x):\n",
    "    timeArray = time.localtime(float(x)/1000)\n",
    "    otherStyleTime = time.strftime(\"%m-%d\", timeArray)\n",
    "    return otherStyleTime[:10]\n",
    "def TransTt2Hour(x):\n",
    "    timeArray = time.localtime(float(x)/1000)\n",
    "    otherStyleTime = time.strftime('%H', timeArray)\n",
    "    return int(otherStyleTime)"
   ]
  },
  {
   "cell_type": "code",
   "execution_count": 5,
   "metadata": {},
   "outputs": [],
   "source": [
    "# 转换时间戳为日期和小时\n",
    "behavior['diff'] = behavior.close - behavior.start\n",
    "behavior['date'] = behavior.start.apply(TransTt2Date)\n",
    "behavior['s_hour'] = behavior.start.apply(TransTt2Hour)\n",
    "behavior['c_hour'] = behavior.close.apply(TransTt2Hour)"
   ]
  },
  {
   "cell_type": "markdown",
   "metadata": {},
   "source": [
    "---------------------------\n",
    "按照 device_id 分组构造特征"
   ]
  },
  {
   "cell_type": "code",
   "execution_count": 6,
   "metadata": {},
   "outputs": [],
   "source": [
    "# group-obj\n",
    "group_obj = behavior.groupby(by='device_id')\n",
    "\n",
    "features = pd.DataFrame({'device_id':behavior.device_id.unique()})"
   ]
  },
  {
   "cell_type": "code",
   "execution_count": 7,
   "metadata": {},
   "outputs": [],
   "source": [
    "# 次数\n",
    "groupfeature = group_obj.app_id.agg('count').reset_index()\n",
    "groupfeature.rename(index=str,columns={'app_id':'times'},inplace=True)\n",
    "features = features.merge(groupfeature,on='device_id',how='left')"
   ]
  },
  {
   "cell_type": "code",
   "execution_count": 8,
   "metadata": {},
   "outputs": [],
   "source": [
    "# days\n",
    "groupfeature = group_obj.date.nunique().reset_index()\n",
    "groupfeature.rename(index=str,columns={'date':'days'},inplace=True)\n",
    "features = features.merge(groupfeature,on='device_id',how='left')"
   ]
  },
  {
   "cell_type": "code",
   "execution_count": 9,
   "metadata": {},
   "outputs": [],
   "source": [
    "# 使用频繁的app\n",
    "from collections import Counter\n",
    "\n",
    "def findMfua(arr):\n",
    "    arr = list(arr)\n",
    "    dic = Counter(arr)\n",
    "    return dic.most_common(1)[0][0]"
   ]
  },
  {
   "cell_type": "code",
   "execution_count": 10,
   "metadata": {},
   "outputs": [],
   "source": [
    "# Most frequently used app\n",
    "groupfeature = group_obj.app_id.agg(findMfua).reset_index()\n",
    "groupfeature.rename(index=str,columns={'app_id':'mfua'},inplace=True)\n",
    "features = features.merge(groupfeature, on='device_id',how='left')"
   ]
  },
  {
   "cell_type": "markdown",
   "metadata": {},
   "source": [
    "## Statistical Features"
   ]
  },
  {
   "cell_type": "code",
   "execution_count": 11,
   "metadata": {},
   "outputs": [],
   "source": [
    "for col in ['start','close','s_hour','c_hour']:\n",
    "    for func in ['min','max','mean','median']:\n",
    "        groupfeature = group_obj[col].agg(func).reset_index()\n",
    "        groupfeature.rename(index=str,columns={col:col+'_'+func},inplace=True)\n",
    "        features = features.merge(groupfeature, on='device_id',how='left')"
   ]
  },
  {
   "cell_type": "code",
   "execution_count": 12,
   "metadata": {},
   "outputs": [],
   "source": [
    "for func in ['min','max','mean','median','std','sum']:\n",
    "    groupfeature = group_obj['diff'].agg(func).reset_index()\n",
    "    groupfeature.rename(index=str,columns={'diff':'diff'+'_'+func},inplace=True)\n",
    "    features = features.merge(groupfeature, on='device_id',how='left')"
   ]
  },
  {
   "cell_type": "code",
   "execution_count": 13,
   "metadata": {},
   "outputs": [],
   "source": [
    "features['hdiff'] = features.c_hour_max - features.s_hour_min\n",
    "features['m_times'] = features.times / features.days"
   ]
  },
  {
   "cell_type": "markdown",
   "metadata": {},
   "source": [
    "### 把mfua,使用最频繁的APP转换为对应的label\n",
    "\n",
    "- mfua : 对应的label1,label2"
   ]
  },
  {
   "cell_type": "code",
   "execution_count": 14,
   "metadata": {},
   "outputs": [],
   "source": [
    "app_label.set_index('app_id',inplace=True)\n",
    "label1_dict = app_label['label_1'].to_dict()\n",
    "label2_dict = app_label['label_2'].to_dict()"
   ]
  },
  {
   "cell_type": "code",
   "execution_count": 15,
   "metadata": {},
   "outputs": [],
   "source": [
    "def replace_label1(app_id):\n",
    "    if app_id in set(label1_dict.keys()):\n",
    "        return label1_dict[app_id]\n",
    "    else :\n",
    "        return 'unknow'\n",
    "        \n",
    "def replace_label2(app_id):\n",
    "    if app_id in set(label2_dict.keys()):\n",
    "        return label2_dict[app_id]\n",
    "    else :\n",
    "        return 'unknow'"
   ]
  },
  {
   "cell_type": "code",
   "execution_count": 16,
   "metadata": {},
   "outputs": [],
   "source": [
    "features['label_1'] = features.mfua.agg(replace_label1)\n",
    "features['label_2'] = features.mfua.agg(replace_label2)"
   ]
  },
  {
   "cell_type": "markdown",
   "metadata": {},
   "source": [
    "## add device brand features"
   ]
  },
  {
   "cell_type": "code",
   "execution_count": 17,
   "metadata": {},
   "outputs": [],
   "source": [
    "device_brand = pd.read_csv('new_feature/device_brand.csv')\n",
    "features = features.merge(device_brand, on='device_id',how='left')\n",
    "# encode\n",
    "features['brand'] = pd.Categorical(features.brand).codes\n",
    "features['model'] = pd.Categorical(features.model).codes\n",
    "features['btype'] = pd.Categorical(features.btype).codes\n",
    "\n",
    "features['mfua'] = pd.Categorical(features.mfua).codes\n",
    "features['label_1'] = pd.Categorical(features.label_1).codes\n",
    "features['label_2'] = pd.Categorical(features.label_2).codes\n",
    "\n",
    "features.to_csv('features/h1.csv',index=False)"
   ]
  },
  {
   "cell_type": "markdown",
   "metadata": {},
   "source": [
    "## Load train_data, test_data"
   ]
  },
  {
   "cell_type": "code",
   "execution_count": 17,
   "metadata": {},
   "outputs": [],
   "source": [
    "# train test data\n",
    "train_datapath =  '../Demo/deviceid_train.tsv' \n",
    "test_datapath =  '../Demo/deviceid_test.tsv' \n",
    "train_data, test_data = LoadData(train_datapath, test_datapath)"
   ]
  },
  {
   "cell_type": "markdown",
   "metadata": {},
   "source": [
    "### 第一组特征"
   ]
  },
  {
   "cell_type": "code",
   "execution_count": 18,
   "metadata": {},
   "outputs": [],
   "source": [
    "h1_train = train_data.merge(features, on='device_id', how='left')\n",
    "h1_test = test_data.merge(features, on='device_id', how='left')"
   ]
  },
  {
   "cell_type": "markdown",
   "metadata": {},
   "source": [
    "## Xgboost"
   ]
  },
  {
   "cell_type": "code",
   "execution_count": 19,
   "metadata": {},
   "outputs": [],
   "source": [
    "import gc\n",
    "import numpy as np\n",
    "import xgboost as xgb\n",
    "import matplotlib.pyplot as plt\n",
    "from sklearn.metrics import log_loss\n",
    "from sklearn.model_selection import StratifiedKFold\n",
    "import warnings\n",
    "warnings.filterwarnings('ignore')\n",
    "%matplotlib inline"
   ]
  },
  {
   "cell_type": "code",
   "execution_count": 20,
   "metadata": {},
   "outputs": [],
   "source": [
    "def xgbc_code(train_data, test_data,label, num_class, n_folds=5):\n",
    "    labels = train_data[[label]]\n",
    "    train_data = train_data.drop(['device_id','sex','age','label'],axis=1)\n",
    "    test_data = test_data.drop(['device_id'],axis=1)\n",
    "    train_predvec = np.zeros((train_data.shape[0], num_class))\n",
    "    test_predvec = np.zeros((test_data.shape[0], num_class))\n",
    "    SKF = StratifiedKFold(n_splits = n_folds, shuffle = True, random_state = 2018)\n",
    "    for train_indices, valid_indices in SKF.split(train_data,labels):\n",
    "        # Training data for the fold\n",
    "        x_train = train_data.loc[train_indices, :]\n",
    "        y_train = labels.loc[train_indices, :]\n",
    "        # Validation data for the fold\n",
    "        x_valid = train_data.loc[valid_indices, :]\n",
    "        y_valid = labels.loc[valid_indices, :]\n",
    "        # XGboost\n",
    "        xgbc = xgb.XGBClassifier(max_depth=3, learning_rate=0.111, n_estimators=1000,\n",
    "                         silent=True, objective='multi:softprob',\n",
    "                         booster='gbtree', n_jobs=-1,\n",
    "                         gamma=0, subsample=1,\n",
    "                         colsample_bytree=1, colsample_bylevel=1.,\n",
    "                         reg_alpha=0, reg_lambda=1,\n",
    "                         scale_pos_weight=1,\n",
    "                         base_score=0.5,\n",
    "                         max_delta_step = 0,\n",
    "                         random_state=666)\n",
    "        xgbc.fit(x_train, y_train,\n",
    "                 eval_set=[(x_train, y_train),(x_valid, y_valid)],\n",
    "                 eval_metric = 'mlogloss',\n",
    "                 early_stopping_rounds=10,\n",
    "                 verbose=False)\n",
    "        # record logloss\n",
    "        train_predvec[valid_indices] = xgbc.predict_proba(x_valid)\n",
    "        test_predvec += xgbc.predict_proba(test_data)/n_folds\n",
    "        # Clean up memory\n",
    "        gc.enable()\n",
    "        del xgbc, x_train, y_train, x_valid, y_valid\n",
    "        gc.collect()\n",
    "    return train_predvec, test_predvec"
   ]
  },
  {
   "cell_type": "code",
   "execution_count": 1,
   "metadata": {},
   "outputs": [
    {
     "ename": "NameError",
     "evalue": "name 'xgbc_code' is not defined",
     "output_type": "error",
     "traceback": [
      "\u001b[0;31m---------------------------------------------------------------------------\u001b[0m",
      "\u001b[0;31mNameError\u001b[0m                                 Traceback (most recent call last)",
      "\u001b[0;32m<ipython-input-1-3500c307848a>\u001b[0m in \u001b[0;36m<module>\u001b[0;34m()\u001b[0m\n\u001b[0;32m----> 1\u001b[0;31m \u001b[0mh1_train\u001b[0m\u001b[0;34m,\u001b[0m \u001b[0mh1_test\u001b[0m \u001b[0;34m=\u001b[0m \u001b[0mxgbc_code\u001b[0m\u001b[0;34m(\u001b[0m\u001b[0mh1_train\u001b[0m\u001b[0;34m,\u001b[0m \u001b[0mh1_test\u001b[0m\u001b[0;34m,\u001b[0m \u001b[0;34m'label'\u001b[0m\u001b[0;34m,\u001b[0m \u001b[0;36m22\u001b[0m\u001b[0;34m,\u001b[0m \u001b[0;36m10\u001b[0m\u001b[0;34m)\u001b[0m\u001b[0;34m\u001b[0m\u001b[0m\n\u001b[0m\u001b[1;32m      2\u001b[0m \u001b[0;34m\u001b[0m\u001b[0m\n\u001b[1;32m      3\u001b[0m \u001b[0mnp\u001b[0m\u001b[0;34m.\u001b[0m\u001b[0msave\u001b[0m\u001b[0;34m(\u001b[0m\u001b[0;34m'new_feature/h1_train.npy'\u001b[0m\u001b[0;34m,\u001b[0m\u001b[0mh1_train\u001b[0m\u001b[0;34m)\u001b[0m\u001b[0;34m\u001b[0m\u001b[0m\n\u001b[1;32m      4\u001b[0m \u001b[0mnp\u001b[0m\u001b[0;34m.\u001b[0m\u001b[0msave\u001b[0m\u001b[0;34m(\u001b[0m\u001b[0;34m'new_feature/h1_test.npy'\u001b[0m\u001b[0;34m,\u001b[0m\u001b[0mh1_test\u001b[0m\u001b[0;34m)\u001b[0m\u001b[0;34m\u001b[0m\u001b[0m\n",
      "\u001b[0;31mNameError\u001b[0m: name 'xgbc_code' is not defined"
     ]
    }
   ],
   "source": [
    "h1_train, h1_test = xgbc_code(h1_train, h1_test, 'label', 22, 10)\n",
    "\n",
    "np.save('new_feature/h1_train.npy',h1_train)\n",
    "np.save('new_feature/h1_test.npy',h1_test)"
   ]
  },
  {
   "cell_type": "markdown",
   "metadata": {},
   "source": [
    " ----------------------------------------------------------------------------------\n",
    " 第二组特征\n",
    "\n",
    " ## 设备app使用情况"
   ]
  },
  {
   "cell_type": "code",
   "execution_count": null,
   "metadata": {},
   "outputs": [],
   "source": [
    "## CountVector\n",
    "\n",
    "from sklearn.feature_extraction.text import CountVectorizer\n",
    "from sklearn.feature_extraction.text import TfidfTransformer\n",
    "from sklearn.decomposition import TruncatedSVD"
   ]
  },
  {
   "cell_type": "code",
   "execution_count": null,
   "metadata": {},
   "outputs": [],
   "source": [
    "def ret_list(arr):\n",
    "    return list(arr)"
   ]
  },
  {
   "cell_type": "code",
   "execution_count": null,
   "metadata": {},
   "outputs": [],
   "source": [
    "groupfeature = group_obj.app_id.agg(ret_list).reset_index()\n",
    "\n",
    "groupfeature.rename(index=str,columns={0:'app_ids'},inplace=True)\n",
    "\n",
    "app_ids = groupfeature.app_ids.apply(lambda x:' '.join(x)).tolist()\n",
    "\n",
    "vectorizer=CountVectorizer()\n",
    "transformer=TfidfTransformer()\n",
    "\n",
    "# 应用使用情况统计\n",
    "cnt_vector = vectorizer.fit_transform(app_ids)\n",
    "# tfidf权重\n",
    "tfidf = transformer.fit_transform(cnt_vector)"
   ]
  },
  {
   "cell_type": "markdown",
   "metadata": {},
   "source": [
    "## 不同维度的降维"
   ]
  },
  {
   "cell_type": "code",
   "execution_count": null,
   "metadata": {},
   "outputs": [],
   "source": [
    "svd300 = TruncatedSVD(n_components=300, n_iter=15, random_state=666)\n",
    "\n",
    "h2_cnt = svd300.fit_transform(cnt_vector)\n",
    "f_names = ['h2_'+str(x) for x in range(300)]\n",
    "h2_cnt = pd.DataFrame(h2_cnt,columns=f_names)\n",
    "h2_cnt['device_id'] = groupfeature.device_id.values\n",
    "# TF-IDF\n",
    "h2_tfidf = svd300.fit_transform(tfidf)\n",
    "f_names = ['h2t_'+str(x) for x in range(300)]\n",
    "h2_tfidf = pd.DataFrame(h2_tfidf,columns=f_names)\n",
    "h2_tfidf['device_id'] = groupfeature.device_id.values"
   ]
  },
  {
   "cell_type": "code",
   "execution_count": null,
   "metadata": {},
   "outputs": [],
   "source": [
    "# save h2 features\n",
    "\n",
    "h2_cnt.to_csv('features/h2_cnt300.csv',index=False)\n",
    "h2_tfidf.to_csv('features/h2_tfidf300.csv',index=False)"
   ]
  },
  {
   "cell_type": "code",
   "execution_count": null,
   "metadata": {},
   "outputs": [],
   "source": [
    "svd = TruncatedSVD(n_components=550, n_iter=15, random_state=666)\n",
    "\n",
    "svd_cntvec = svd.fit_transform(tfidf)\n",
    "f_names = ['besvd_'+str(x) for x in range(550)]\n",
    "svd_cntvec = pd.DataFrame(svd_cntvec,columns=f_names)\n",
    "# add tfidf_sum columns\n",
    "svd_cntvec['tfidf_sum'] = tfidf.sum(axis=1)\n",
    "svd_cntvec['device_id'] = groupfeature.device_id.values"
   ]
  },
  {
   "cell_type": "markdown",
   "metadata": {},
   "source": [
    "--------------------"
   ]
  },
  {
   "cell_type": "code",
   "execution_count": null,
   "metadata": {},
   "outputs": [],
   "source": [
    "h2_train = train_data.merge(svd_cntvec, on='device_id',how='left')\n",
    "h2_test = test_data.merge(svd_cntvec, on='device_id', how='left')"
   ]
  },
  {
   "cell_type": "code",
   "execution_count": null,
   "metadata": {},
   "outputs": [],
   "source": [
    "from sklearn.model_selection import StratifiedKFold\n",
    "from sklearn.neural_network import MLPClassifier\n",
    "from sklearn.metrics import log_loss\n",
    "import warnings\n",
    "warnings.filterwarnings('ignore')"
   ]
  },
  {
   "cell_type": "code",
   "execution_count": null,
   "metadata": {},
   "outputs": [],
   "source": [
    "def train_code(train_data, test_data,label, num_class, n_folds=5):\n",
    "    labels = train_data[[label]]\n",
    "    train_data = train_data.drop(['device_id','sex','age','label'],axis=1)\n",
    "    test_data = test_data.drop(['device_id'],axis=1)\n",
    "    train_predvec = np.zeros((train_data.shape[0], num_class))\n",
    "    test_predvec = np.zeros((test_data.shape[0], num_class))\n",
    "    SKF = StratifiedKFold(n_splits = n_folds, shuffle = True, random_state = 2018)\n",
    "    for train_indices, valid_indices in SKF.split(train_data,labels):\n",
    "        # Training data for the fold\n",
    "        x_train = train_data.loc[train_indices, :]\n",
    "        y_train = labels.loc[train_indices, :]\n",
    "        # Validation data for the fold\n",
    "        x_valid = train_data.loc[valid_indices, :]\n",
    "        y_valid = labels.loc[valid_indices, :]\n",
    "        # MLPC\n",
    "        mlpc = MLPClassifier(hidden_layer_sizes=(640,640,640),\n",
    "                             alpha=0.0033,\n",
    "                             batch_size=128,\n",
    "                             learning_rate='adaptive',\n",
    "                             learning_rate_init=0.00054321,\n",
    "                             random_state=666, verbose=0, early_stopping=True,\n",
    "                             validation_fraction=0.1)\n",
    "        mlpc.fit(x_train, y_train)\n",
    "        \n",
    "        train_predvec[valid_indices] = mlpc.predict_proba(x_valid)\n",
    "        test_predvec += mlpc.predict_proba(test_data)/n_folds\n",
    "        # Clean up memory\n",
    "        gc.enable()\n",
    "        del mlpc, x_train, y_train, x_valid, y_valid\n",
    "        gc.collect()\n",
    "    return train_predvec, test_predvec"
   ]
  },
  {
   "cell_type": "code",
   "execution_count": null,
   "metadata": {},
   "outputs": [],
   "source": [
    "h2_train, h2_test = train_code(h2_train, h2_test, 'label', 22, 10)"
   ]
  },
  {
   "cell_type": "code",
   "execution_count": null,
   "metadata": {},
   "outputs": [],
   "source": [
    "np.save('new_feature/h2_train.npy',h2_train)\n",
    "np.save('new_feature/h2_test.npy',h2_test)"
   ]
  },
  {
   "cell_type": "code",
   "execution_count": null,
   "metadata": {
    "collapsed": true
   },
   "outputs": [],
   "source": []
  }
 ],
 "metadata": {
  "kernelspec": {
   "display_name": "Python 3",
   "language": "python",
   "name": "python3"
  },
  "language_info": {
   "codemirror_mode": {
    "name": "ipython",
    "version": 3
   },
   "file_extension": ".py",
   "mimetype": "text/x-python",
   "name": "python",
   "nbconvert_exporter": "python",
   "pygments_lexer": "ipython3",
   "version": "3.6.5"
  }
 },
 "nbformat": 4,
 "nbformat_minor": 2
}
