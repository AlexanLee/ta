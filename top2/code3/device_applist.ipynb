{
 "cells": [
  {
   "cell_type": "code",
   "execution_count": 1,
   "metadata": {},
   "outputs": [],
   "source": [
    "import numpy as np\n",
    "import pandas as pd\n",
    "import matplotlib.pyplot as plt\n",
    "from sklearn.feature_extraction.text import CountVectorizer\n",
    "from sklearn.feature_extraction.text import TfidfTransformer\n",
    "from sklearn.model_selection import train_test_split\n",
    "from sklearn.neural_network import MLPClassifier\n",
    "from sklearn.decomposition import TruncatedSVD\n",
    "from sklearn.metrics import log_loss\n",
    "from help_function import LoadData\n",
    "%matplotlib inline"
   ]
  },
  {
   "cell_type": "markdown",
   "metadata": {},
   "source": [
    " 设备数据：每个设备上的应用安装列表，设备应用名都进行了hash处理【deviceid_packages.tsv】"
   ]
  },
  {
   "cell_type": "code",
   "execution_count": 2,
   "metadata": {},
   "outputs": [],
   "source": [
    "device_applist = pd.read_csv('../Demo/deviceid_packages.tsv',sep='\\t',\n",
    "                             names=['device_id','app_names'])\n",
    "\n",
    "device_applist['app_names']=device_applist['app_names'].apply(lambda x:x.split(','))\n",
    "device_applist['app_count']=device_applist['app_names'].apply(lambda x:len(x))"
   ]
  },
  {
   "cell_type": "code",
   "execution_count": 3,
   "metadata": {},
   "outputs": [],
   "source": [
    "vectorizer=CountVectorizer()\n",
    "transformer=TfidfTransformer()\n",
    "# 所有设备的应用安装列表\n",
    "apps = device_applist['app_names'].apply(lambda x:' '.join(x)).tolist()\n",
    "# 设备安装应用稀疏矩阵\n",
    "cntTf = vectorizer.fit_transform(apps)\n",
    "# tfidf权重\n",
    "tfidf=transformer.fit_transform(cntTf)\n",
    "# TruncateSVD\n",
    "svd = TruncatedSVD(n_components=550, n_iter=15, random_state=666)\n",
    "# countvector\n",
    "app_svd = svd.fit_transform(cntTf)\n",
    "f_names = ['svd-'+str(x) for x in range(550)]\n",
    "app_svd = pd.DataFrame(app_svd,columns=f_names)\n",
    "# add tfidf_sum columns\n",
    "app_svd['tfidf_sum'] = tfidf.sum(axis=1)\n",
    "app_svd['device_id'] = device_applist.device_id.values"
   ]
  },
  {
   "cell_type": "code",
   "execution_count": 4,
   "metadata": {},
   "outputs": [],
   "source": [
    "app_tfidf = svd.fit_transform(tfidf)\n",
    "f_names = ['tfidf'+str(x) for x in range(550)]\n",
    "app_tfidf = pd.DataFrame(app_tfidf, columns=f_names)\n",
    "\n",
    "app_tfidf['device_id'] = device_applist.device_id.values\n",
    "\n",
    "app_svd.to_csv('features/applist_cnt.csv',index=False)\n",
    "app_tfidf.to_csv('features/applist_tfidf.csv',index=False)"
   ]
  },
  {
   "cell_type": "code",
   "execution_count": 5,
   "metadata": {},
   "outputs": [],
   "source": [
    "device_applist =  device_applist.merge(app_svd, on='device_id', how='left')"
   ]
  },
  {
   "cell_type": "markdown",
   "metadata": {},
   "source": [
    "---------------"
   ]
  },
  {
   "cell_type": "markdown",
   "metadata": {},
   "source": [
    "## Train/test"
   ]
  },
  {
   "cell_type": "code",
   "execution_count": 6,
   "metadata": {},
   "outputs": [],
   "source": [
    "train_path = '../Demo/deviceid_train.tsv'\n",
    "test_path = '../Demo/deviceid_test.tsv'\n",
    "train_data, test_data = LoadData(train_path, test_path)"
   ]
  },
  {
   "cell_type": "markdown",
   "metadata": {},
   "source": [
    "### Merge(applist)"
   ]
  },
  {
   "cell_type": "code",
   "execution_count": 7,
   "metadata": {},
   "outputs": [],
   "source": [
    "train_data = train_data.merge(device_applist, on='device_id',how='left')\n",
    "test_data = test_data.merge(device_applist, on='device_id',how='left')"
   ]
  },
  {
   "cell_type": "markdown",
   "metadata": {},
   "source": [
    "# MLPC"
   ]
  },
  {
   "cell_type": "code",
   "execution_count": 8,
   "metadata": {},
   "outputs": [],
   "source": [
    "from sklearn.model_selection import StratifiedKFold\n",
    "from sklearn.neural_network import MLPClassifier\n",
    "from sklearn.metrics import log_loss\n",
    "import gc\n",
    "import warnings\n",
    "warnings.filterwarnings('ignore')"
   ]
  },
  {
   "cell_type": "code",
   "execution_count": 9,
   "metadata": {},
   "outputs": [],
   "source": [
    "def train_code(train_data, test_data,label, num_class, n_folds=5):\n",
    "    labels = train_data[[label]]\n",
    "    train_data = train_data.drop(['device_id','sex','age','label','app_names'],axis=1)\n",
    "    test_data = test_data.drop(['device_id','app_names'],axis=1)\n",
    "    train_predvec = np.zeros((train_data.shape[0], num_class))\n",
    "    test_predvec = np.zeros((test_data.shape[0], num_class))\n",
    "    SKF = StratifiedKFold(n_splits = n_folds, shuffle = True, random_state = 2018)\n",
    "     \n",
    "    for train_indices, valid_indices in SKF.split(train_data, labels):\n",
    "        # Training data for the fold\n",
    "        x_train = train_data.loc[train_indices, :]\n",
    "        y_train = labels.loc[train_indices, :]\n",
    "        # Validation data for the fold\n",
    "        x_valid = train_data.loc[valid_indices, :]\n",
    "        y_valid = labels.loc[valid_indices, :]\n",
    "        # MLPC\n",
    "        mlpc = MLPClassifier(hidden_layer_sizes=(640,640,640),  #300,300,300\n",
    "                     alpha=0.0033,            \n",
    "                     batch_size=256,          # 256\n",
    "                     learning_rate='adaptive',\n",
    "                     learning_rate_init=0.00054321,\n",
    "                     random_state=666,\n",
    "                     verbose=False,\n",
    "                     early_stopping=True,\n",
    "                     validation_fraction=0.1)       \n",
    "        mlpc.fit(x_train, y_train)\n",
    "         \n",
    "        train_predvec[valid_indices] = mlpc.predict_proba(x_valid)\n",
    "        test_predvec += mlpc.predict_proba(test_data)/n_folds\n",
    "        # Clean up memory\n",
    "        gc.enable()\n",
    "        del mlpc, x_train, y_train, x_valid, y_valid\n",
    "        gc.collect()\n",
    "    return train_predvec, test_predvec"
   ]
  },
  {
   "cell_type": "code",
   "execution_count": 10,
   "metadata": {},
   "outputs": [],
   "source": [
    "train_set, test_set = train_code(train_data, test_data,'label', 22, 10)"
   ]
  },
  {
   "cell_type": "code",
   "execution_count": 11,
   "metadata": {},
   "outputs": [],
   "source": [
    "np.save('new_feature/applist_train.npy',train_set)\n",
    "np.save('new_feature/applist_test.npy',test_set)"
   ]
  },
  {
   "cell_type": "code",
   "execution_count": null,
   "metadata": {
    "collapsed": true
   },
   "outputs": [],
   "source": []
  }
 ],
 "metadata": {
  "kernelspec": {
   "display_name": "Python 3",
   "language": "python",
   "name": "python3"
  },
  "language_info": {
   "codemirror_mode": {
    "name": "ipython",
    "version": 3
   },
   "file_extension": ".py",
   "mimetype": "text/x-python",
   "name": "python",
   "nbconvert_exporter": "python",
   "pygments_lexer": "ipython3",
   "version": "3.6.5"
  }
 },
 "nbformat": 4,
 "nbformat_minor": 2
}
