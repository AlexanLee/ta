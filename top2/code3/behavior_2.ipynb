{
 "cells": [
  {
   "cell_type": "code",
   "execution_count": 1,
   "metadata": {
    "collapsed": true
   },
   "outputs": [],
   "source": [
    "import gc\n",
    "import time\n",
    "import numpy as np\n",
    "import pandas as pd\n",
    "import xgboost as xgb\n",
    "from sklearn.metrics import log_loss\n",
    "from sklearn.model_selection import StratifiedKFold\n",
    "from help_function import LoadData\n",
    "import warnings\n",
    "warnings.filterwarnings('ignore')"
   ]
  },
  {
   "cell_type": "code",
   "execution_count": 2,
   "metadata": {
    "collapsed": true
   },
   "outputs": [],
   "source": [
    "# 行为数据\n",
    "behavior = pd.read_csv('../Demo/deviceid_package_start_close.tsv',sep='\\t',\n",
    "                       names = ['device_id','app_id','start','close'])"
   ]
  },
  {
   "cell_type": "code",
   "execution_count": 3,
   "metadata": {
    "collapsed": true
   },
   "outputs": [],
   "source": [
    "# trian data , test data\n",
    "# train test data\n",
    "train_datapath =  '../Demo/deviceid_train.tsv' \n",
    "test_datapath =  '../Demo/deviceid_test.tsv' \n",
    "train_data, test_data = LoadData(train_datapath, test_datapath)"
   ]
  },
  {
   "cell_type": "markdown",
   "metadata": {},
   "source": [
    "## start , close"
   ]
  },
  {
   "cell_type": "code",
   "execution_count": 4,
   "metadata": {
    "collapsed": true
   },
   "outputs": [],
   "source": [
    "from sklearn.feature_extraction.text import CountVectorizer\n",
    "from sklearn.feature_extraction.text import TfidfTransformer\n",
    "vectorizer=CountVectorizer()"
   ]
  },
  {
   "cell_type": "code",
   "execution_count": 5,
   "metadata": {
    "collapsed": true
   },
   "outputs": [],
   "source": [
    "def TransTt2Hour(x):\n",
    "    timeArray = time.localtime(float(x)/1000)\n",
    "    otherStyleTime = time.strftime('%H', timeArray)\n",
    "    return str(otherStyleTime)\n",
    "def ret_list(arr):\n",
    "    return list(arr)"
   ]
  },
  {
   "cell_type": "code",
   "execution_count": 6,
   "metadata": {
    "collapsed": true
   },
   "outputs": [],
   "source": [
    "behavior['s_hour'] = behavior.start.apply(TransTt2Hour)\n",
    "behavior['c_hour'] = behavior.close.apply(TransTt2Hour)"
   ]
  },
  {
   "cell_type": "code",
   "execution_count": 7,
   "metadata": {
    "collapsed": true
   },
   "outputs": [],
   "source": [
    "# group-obj\n",
    "group_obj = behavior.groupby(by='device_id')\n",
    "features = pd.DataFrame({'device_id':behavior.device_id.unique()})"
   ]
  },
  {
   "cell_type": "markdown",
   "metadata": {},
   "source": [
    "### start : s_hour"
   ]
  },
  {
   "cell_type": "code",
   "execution_count": 8,
   "metadata": {
    "collapsed": true
   },
   "outputs": [],
   "source": [
    "groupfeature = group_obj.s_hour.agg(ret_list).reset_index()\n",
    "\n",
    "groupfeature.rename(index=str,columns={0:'s_hour'},inplace=True)\n",
    "\n",
    "s_hours = groupfeature.s_hour.apply(lambda x:' '.join(x)).tolist()\n",
    "\n",
    "sh_vector = vectorizer.fit_transform(s_hours)\n",
    "\n",
    "# cntvector\n",
    "f_names = ['s'+str(x) for x in range(24)]\n",
    "sh_vector = pd.DataFrame(sh_vector.toarray(),columns=f_names)\n",
    "\n",
    "sh_vector['device_id'] = groupfeature.device_id.values"
   ]
  },
  {
   "cell_type": "markdown",
   "metadata": {},
   "source": [
    "### close : c_hour"
   ]
  },
  {
   "cell_type": "code",
   "execution_count": 9,
   "metadata": {
    "collapsed": true
   },
   "outputs": [],
   "source": [
    "groupfeature = group_obj.c_hour.agg(ret_list).reset_index()\n",
    "\n",
    "groupfeature.rename(index=str,columns={0:'c_hour'},inplace=True)\n",
    "\n",
    "c_hours = groupfeature.c_hour.apply(lambda x:' '.join(x)).tolist()\n",
    "\n",
    "ch_vector = vectorizer.fit_transform(c_hours)\n",
    "\n",
    "f_names = ['c'+str(x) for x in range(24)]\n",
    "ch_vector = pd.DataFrame(ch_vector.toarray(),columns=f_names)\n",
    "\n",
    "ch_vector['device_id'] = groupfeature.device_id.values"
   ]
  },
  {
   "cell_type": "code",
   "execution_count": 10,
   "metadata": {
    "collapsed": true
   },
   "outputs": [],
   "source": [
    "# s_hour + c_hour\n",
    "sc_vector = sh_vector.merge(ch_vector, on='device_id', how='left')\n",
    "sc_vector.to_csv('features/h3.csv',index=False)"
   ]
  },
  {
   "cell_type": "code",
   "execution_count": 11,
   "metadata": {
    "collapsed": true
   },
   "outputs": [],
   "source": [
    "train_set = train_data.merge(sc_vector, on='device_id', how='left')\n",
    "test_set = test_data.merge(sc_vector, on='device_id', how='left')"
   ]
  },
  {
   "cell_type": "markdown",
   "metadata": {},
   "source": [
    "train code"
   ]
  },
  {
   "cell_type": "code",
   "execution_count": 12,
   "metadata": {
    "collapsed": true
   },
   "outputs": [],
   "source": [
    "def xgbc_code(train_data, test_data,label, num_class, n_folds=5,\n",
    "              obj='multi:softprob', metric='mlogloss'):\n",
    "    labels = train_data[[label]]\n",
    "    train_data = train_data.drop(['device_id','sex','age','label'],axis=1)\n",
    "    test_data = test_data.drop(['device_id'],axis=1)\n",
    "    train_predvec = np.zeros((train_data.shape[0], num_class))\n",
    "    test_predvec = np.zeros((test_data.shape[0], num_class))\n",
    "    SKF = StratifiedKFold(n_splits = n_folds, shuffle = True, random_state = 2018)\n",
    "    for train_indices, valid_indices in SKF.split(train_data,labels):\n",
    "        # Training data for the fold\n",
    "        x_train = train_data.loc[train_indices, :]\n",
    "        y_train = labels.loc[train_indices, :]\n",
    "        # Validation data for the fold\n",
    "        x_valid = train_data.loc[valid_indices, :]\n",
    "        y_valid = labels.loc[valid_indices, :]\n",
    "        # XGboost\n",
    "        xgbc = xgb.XGBClassifier(max_depth=3, learning_rate=0.09, n_estimators=1000,\n",
    "                         silent=True, objective = obj,\n",
    "                         booster='gbtree', n_jobs=-1,\n",
    "                         gamma=0, subsample=1,\n",
    "                         colsample_bytree=0.6, colsample_bylevel=1.,\n",
    "                         reg_alpha=0, reg_lambda=1,\n",
    "                         scale_pos_weight=1,\n",
    "                         base_score=0.5,\n",
    "                         max_delta_step = 0,\n",
    "                         random_state=666)\n",
    "        xgbc.fit(x_train, y_train,\n",
    "                 eval_set=[(x_train, y_train),(x_valid, y_valid)],\n",
    "                 eval_metric = metric,\n",
    "                 early_stopping_rounds=10,\n",
    "                 verbose=0)\n",
    "        # record logloss\n",
    "        train_predvec[valid_indices] = xgbc.predict_proba(x_valid)\n",
    "        test_predvec += xgbc.predict_proba(test_data)/n_folds\n",
    "        # Clean up memory\n",
    "        gc.enable()\n",
    "        del xgbc, x_train, y_train, x_valid, y_valid\n",
    "        gc.collect()\n",
    "    return train_predvec, test_predvec"
   ]
  },
  {
   "cell_type": "code",
   "execution_count": 14,
   "metadata": {},
   "outputs": [],
   "source": [
    "# sex+age   num_class = \n",
    "train_1, test_1 = xgbc_code(train_set, test_set, 'label', 22, 10)\n",
    "\n",
    "np.save('new_feature/h3_train.npy',train_1)\n",
    "np.save('new_feature/h3_test.npy',test_1)"
   ]
  },
  {
   "cell_type": "code",
   "execution_count": 15,
   "metadata": {
    "collapsed": true
   },
   "outputs": [],
   "source": [
    "# age num_class = 11\n",
    "age_train, age_test = xgbc_code(train_set, test_set, 'age', 11, 10)\n",
    "\n",
    "np.save('new_feature/age_train.npy',age_train)\n",
    "np.save('new_feature/age_test.npy',age_test)"
   ]
  },
  {
   "cell_type": "code",
   "execution_count": 16,
   "metadata": {
    "collapsed": true
   },
   "outputs": [],
   "source": [
    "# sex num_class = 2\n",
    "sex_train, sex_test = xgbc_code(train_set, test_set, 'sex', 2, 10,\n",
    "                                        'binary:logistic','logloss')\n",
    "\n",
    "np.save('new_feature/sex_train.npy',sex_train)\n",
    "np.save('new_feature/sex_test.npy',sex_test)"
   ]
  },
  {
   "cell_type": "code",
   "execution_count": null,
   "metadata": {
    "collapsed": true
   },
   "outputs": [],
   "source": []
  }
 ],
 "metadata": {
  "kernelspec": {
   "display_name": "Python [conda env:python35]",
   "language": "python",
   "name": "conda-env-python35-py"
  },
  "language_info": {
   "codemirror_mode": {
    "name": "ipython",
    "version": 3
   },
   "file_extension": ".py",
   "mimetype": "text/x-python",
   "name": "python",
   "nbconvert_exporter": "python",
   "pygments_lexer": "ipython3",
   "version": "3.5.3"
  }
 },
 "nbformat": 4,
 "nbformat_minor": 2
}
