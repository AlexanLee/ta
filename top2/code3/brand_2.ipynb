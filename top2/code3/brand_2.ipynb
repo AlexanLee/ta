{
 "cells": [
  {
   "cell_type": "code",
   "execution_count": 2,
   "metadata": {},
   "outputs": [],
   "source": [
    "import gc\n",
    "import numpy as np\n",
    "import pandas as pd\n",
    "import xgboost as xgb\n",
    "from sklearn.metrics import log_loss\n",
    "from sklearn.neural_network import MLPClassifier\n",
    "from sklearn.model_selection import train_test_split,StratifiedKFold\n",
    "from sklearn.decomposition import TruncatedSVD\n",
    "import matplotlib.pyplot as plt\n",
    "from help_function import LoadData\n",
    "import warnings\n",
    "warnings.filterwarnings('ignore')\n",
    "%matplotlib inline"
   ]
  },
  {
   "cell_type": "markdown",
   "metadata": {},
   "source": [
    "机型数据：每个设备的品牌和型号【deviceid_brand.tsv】"
   ]
  },
  {
   "cell_type": "code",
   "execution_count": 3,
   "metadata": {},
   "outputs": [],
   "source": [
    " device_brand = pd.read_csv('new_feature/device_brand.csv')"
   ]
  },
  {
   "cell_type": "markdown",
   "metadata": {},
   "source": [
    "label =  sex+age, one-hot encode"
   ]
  },
  {
   "cell_type": "code",
   "execution_count": 4,
   "metadata": {},
   "outputs": [],
   "source": [
    "# trian data , test data\n",
    "train_datapath =  '../Demo/deviceid_train.tsv' \n",
    "test_datapath =  '../Demo/deviceid_test.tsv' \n",
    "train_data, test_data = LoadData(train_datapath, test_datapath)"
   ]
  },
  {
   "cell_type": "code",
   "execution_count": 5,
   "metadata": {},
   "outputs": [],
   "source": [
    "train_data.drop(['sex','age'],axis=1,inplace=True)\n",
    "\n",
    "test_data['label'] = 'unknow'\n",
    "\n",
    "data = train_data.append(test_data)"
   ]
  },
  {
   "cell_type": "markdown",
   "metadata": {},
   "source": [
    "Merge device_brand"
   ]
  },
  {
   "cell_type": "code",
   "execution_count": 6,
   "metadata": {},
   "outputs": [],
   "source": [
    "data = data.merge(device_brand,on='device_id',how='left')\n",
    "\n",
    "data.fillna('unknow',inplace=True)"
   ]
  },
  {
   "cell_type": "code",
   "execution_count": 7,
   "metadata": {},
   "outputs": [],
   "source": [
    "brand = data[['device_id','brand']].set_index('device_id')\n",
    "model = data[['device_id','model']].set_index('device_id')\n",
    "btype = data[['device_id','btype']].set_index('device_id')\n",
    "\n",
    "# one-hot encode\n",
    "# 1 : brand\n",
    "# 2 : model\n",
    "# 3 : btype\n",
    "brand = pd.get_dummies(brand).reset_index()\n",
    "model = pd.get_dummies(model).reset_index()\n",
    "btype = pd.get_dummies(btype).reset_index()"
   ]
  },
  {
   "cell_type": "markdown",
   "metadata": {},
   "source": [
    "### brand+model+btype"
   ]
  },
  {
   "cell_type": "code",
   "execution_count": 8,
   "metadata": {},
   "outputs": [],
   "source": [
    "data = brand.merge(model, on='device_id', how='left')\n",
    "data = data.merge(btype, on='device_id', how='left')"
   ]
  },
  {
   "cell_type": "markdown",
   "metadata": {},
   "source": [
    "### 不同尺度的降维"
   ]
  },
  {
   "cell_type": "code",
   "execution_count": 9,
   "metadata": {},
   "outputs": [],
   "source": [
    "svd100 = TruncatedSVD(n_components=100, n_iter=15, random_state=666)\n",
    "\n",
    "brand_100 = pd.DataFrame(svd100.fit_transform(data.iloc[:,1:]))\n",
    "brand_100['device_id'] = data.device_id.values"
   ]
  },
  {
   "cell_type": "code",
   "execution_count": 10,
   "metadata": {},
   "outputs": [],
   "source": [
    "svd550 = TruncatedSVD(n_components=550, n_iter=15, random_state=666)\n",
    "brand_550 = pd.DataFrame(svd550.fit_transform(data.iloc[:,1:]))\n",
    "brand_550['device_id'] = data.device_id.values\n",
    "train = train_data.merge(brand_550, on='device_id', how='left')\n",
    "test = test_data.merge(brand_550, on='device_id', how='left')"
   ]
  },
  {
   "cell_type": "code",
   "execution_count": 11,
   "metadata": {},
   "outputs": [],
   "source": [
    "def train_code(train_data, test_data,label, num_class, n_folds=5):\n",
    "    labels = train_data[[label]]\n",
    "    train_data = train_data.drop(['device_id','label'],axis=1)\n",
    "    test_data = test_data.drop(['device_id','label'],axis=1)\n",
    "    train_predvec = np.zeros((train_data.shape[0], num_class))\n",
    "    test_predvec = np.zeros((test_data.shape[0], num_class))\n",
    "    SKF = StratifiedKFold(n_splits = n_folds, shuffle = True, random_state = 2018)\n",
    "    for train_indices, valid_indices in SKF.split(train_data,labels):\n",
    "        # Training data for the fold\n",
    "        x_train = train_data.loc[train_indices, :]\n",
    "        y_train = labels.loc[train_indices, :]\n",
    "        # Validation data for the fold\n",
    "        x_valid = train_data.loc[valid_indices, :]\n",
    "        y_valid = labels.loc[valid_indices, :]\n",
    "        # MLPC\n",
    "        mlpc = MLPClassifier(hidden_layer_sizes=(640,640,640),\n",
    "                             alpha=0.0003,\n",
    "                             batch_size=128,\n",
    "                             tol = 0.0003,\n",
    "                             learning_rate='adaptive',\n",
    "                             learning_rate_init=0.00054321,\n",
    "                             random_state=666, verbose=False, early_stopping=True,\n",
    "                             validation_fraction=0.1)\n",
    "        mlpc.fit(x_train, y_train)\n",
    "        train_predvec[valid_indices] = mlpc.predict_proba(x_valid)\n",
    "        test_predvec += mlpc.predict_proba(test_data)/n_folds\n",
    "        # Clean up memory\n",
    "        gc.enable()\n",
    "        del mlpc, x_train, y_train, x_valid, y_valid\n",
    "        gc.collect()\n",
    "    return train_predvec, test_predvec"
   ]
  },
  {
   "cell_type": "code",
   "execution_count": 12,
   "metadata": {},
   "outputs": [],
   "source": [
    "brand_train, brand_test = train_code(train, test, 'label', 22, 10)"
   ]
  },
  {
   "cell_type": "code",
   "execution_count": 13,
   "metadata": {},
   "outputs": [],
   "source": [
    "np.save('new_feature/brand_train.npy',brand_train)\n",
    "np.save('new_feature/brand_test.npy',brand_test)\n",
    "brand_100.to_csv('features/brand100.csv',index=False)"
   ]
  },
  {
   "cell_type": "code",
   "execution_count": null,
   "metadata": {
    "collapsed": true
   },
   "outputs": [],
   "source": []
  }
 ],
 "metadata": {
  "kernelspec": {
   "display_name": "Python 3",
   "language": "python",
   "name": "python3"
  },
  "language_info": {
   "codemirror_mode": {
    "name": "ipython",
    "version": 3
   },
   "file_extension": ".py",
   "mimetype": "text/x-python",
   "name": "python",
   "nbconvert_exporter": "python",
   "pygments_lexer": "ipython3",
   "version": "3.6.5"
  }
 },
 "nbformat": 4,
 "nbformat_minor": 2
}
