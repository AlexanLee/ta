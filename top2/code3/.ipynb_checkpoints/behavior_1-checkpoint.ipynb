{
 "cells": [
  {
   "cell_type": "markdown",
   "metadata": {},
   "source": [
    "### 使用应用行为数据和APP数据构造特征进行与训练\n",
    "\n",
    "应用数据：每个设备上各个应用的打开、关闭行为数据【deviceid_package_start_close.tsv】  \n",
    "\n",
    "APP数据：每个应用的类别信息【package_label.tsv】\n",
    "\n",
    "训练数据：每个设备对应的性别、年龄段【deviceid_train.tsv】\n",
    "\n",
    "测试数据：提供设备ID供参赛者进行模型验证【deviceid_test.tsv】"
   ]
  },
  {
   "cell_type": "code",
   "execution_count": 2,
   "metadata": {
    "collapsed": true
   },
   "outputs": [],
   "source": [
    "import time\n",
    "import pandas as pd\n",
    "from help_function import LoadData"
   ]
  },
  {
   "cell_type": "code",
   "execution_count": 3,
   "metadata": {
    "collapsed": true
   },
   "outputs": [],
   "source": [
    "# 行为数据\n",
    "behavior = pd.read_csv('../Demo/deviceid_package_start_close.tsv',sep='\\t',\n",
    "                       names = ['device_id','app_id','start','close'])\n",
    "\n",
    "# 应用label数据\n",
    "app_label = pd.read_csv('../Demo/package_label.tsv',sep='\\t',\n",
    "                        names=['app_id','label_1','label_2'])\n",
    "app_label.label_1 = app_label.label_1.apply(lambda x:x.split('(')[0])\n",
    "app_label.label_2 = app_label.label_2.apply(lambda x:x.split('/')[0])"
   ]
  },
  {
   "cell_type": "code",
   "execution_count": 5,
   "metadata": {
    "collapsed": true
   },
   "outputs": [],
   "source": [
    "def TransTimestamp(x):\n",
    "    timeArray = time.localtime(float(x)/1000)\n",
    "    otherStyleTime = time.strftime(\"%Y-%m-%d %H:%M:%S\", timeArray)\n",
    "    return otherStyleTime\n",
    "def TransTt2Date(x):\n",
    "    timeArray = time.localtime(float(x)/1000)\n",
    "    otherStyleTime = time.strftime(\"%m-%d\", timeArray)\n",
    "    return otherStyleTime[:10]\n",
    "def TransTt2Hour(x):\n",
    "    timeArray = time.localtime(float(x)/1000)\n",
    "    otherStyleTime = time.strftime('%H', timeArray)\n",
    "    return int(otherStyleTime)"
   ]
  },
  {
   "cell_type": "code",
   "execution_count": 6,
   "metadata": {
    "collapsed": true
   },
   "outputs": [],
   "source": [
    "# 转换时间戳为日期和小时\n",
    "behavior['diff'] = behavior.close - behavior.start\n",
    "behavior['date'] = behavior.start.apply(TransTt2Date)\n",
    "behavior['s_hour'] = behavior.start.apply(TransTt2Hour)\n",
    "behavior['c_hour'] = behavior.close.apply(TransTt2Hour)"
   ]
  },
  {
   "cell_type": "markdown",
   "metadata": {},
   "source": [
    "---------------------------\n",
    "按照 device_id 分组构造特征"
   ]
  },
  {
   "cell_type": "code",
   "execution_count": 7,
   "metadata": {
    "collapsed": true
   },
   "outputs": [],
   "source": [
    "# group-obj\n",
    "group_obj = behavior.groupby(by='device_id')\n",
    "\n",
    "features = pd.DataFrame({'device_id':behavior.device_id.unique()})"
   ]
  },
  {
   "cell_type": "code",
   "execution_count": 8,
   "metadata": {
    "collapsed": true
   },
   "outputs": [],
   "source": [
    "# 次数\n",
    "groupfeature = group_obj.app_id.agg('count').reset_index()\n",
    "groupfeature.rename(index=str,columns={'app_id':'times'},inplace=True)\n",
    "features = features.merge(groupfeature,on='device_id',how='left')"
   ]
  },
  {
   "cell_type": "code",
   "execution_count": 9,
   "metadata": {
    "collapsed": true
   },
   "outputs": [],
   "source": [
    "# days\n",
    "groupfeature = group_obj.date.nunique().reset_index()\n",
    "groupfeature.rename(index=str,columns={'date':'days'},inplace=True)\n",
    "features = features.merge(groupfeature,on='device_id',how='left')"
   ]
  },
  {
   "cell_type": "code",
   "execution_count": 10,
   "metadata": {
    "collapsed": true
   },
   "outputs": [],
   "source": [
    "# 使用频繁的app\n",
    "from collections import Counter\n",
    "\n",
    "def findMfua(arr):\n",
    "    arr = list(arr)\n",
    "    dic = Counter(arr)\n",
    "    return dic.most_common(1)[0][0]"
   ]
  },
  {
   "cell_type": "code",
   "execution_count": 11,
   "metadata": {
    "collapsed": true
   },
   "outputs": [],
   "source": [
    "# Most frequently used app\n",
    "groupfeature = group_obj.app_id.agg(findMfua).reset_index()\n",
    "groupfeature.rename(index=str,columns={'app_id':'mfua'},inplace=True)\n",
    "features = features.merge(groupfeature, on='device_id',how='left')"
   ]
  },
  {
   "cell_type": "markdown",
   "metadata": {},
   "source": [
    "## Statistical Features"
   ]
  },
  {
   "cell_type": "code",
   "execution_count": 12,
   "metadata": {
    "collapsed": true
   },
   "outputs": [],
   "source": [
    "for col in ['start','close','s_hour','c_hour']:\n",
    "    for func in ['min','max','mean','median']:\n",
    "        groupfeature = group_obj[col].agg(func).reset_index()\n",
    "        groupfeature.rename(index=str,columns={col:col+'_'+func},inplace=True)\n",
    "        features = features.merge(groupfeature, on='device_id',how='left')"
   ]
  },
  {
   "cell_type": "code",
   "execution_count": 13,
   "metadata": {
    "collapsed": true
   },
   "outputs": [],
   "source": [
    "for func in ['min','max','mean','median','std','sum']:\n",
    "    groupfeature = group_obj['diff'].agg(func).reset_index()\n",
    "    groupfeature.rename(index=str,columns={'diff':'diff'+'_'+func},inplace=True)\n",
    "    features = features.merge(groupfeature, on='device_id',how='left')"
   ]
  },
  {
   "cell_type": "code",
   "execution_count": 14,
   "metadata": {
    "collapsed": true
   },
   "outputs": [],
   "source": [
    "features['hdiff'] = features.c_hour_max - features.s_hour_min\n",
    "features['m_times'] = features.times / features.days"
   ]
  },
  {
   "cell_type": "markdown",
   "metadata": {},
   "source": [
    "### 把mfua,使用最频繁的APP转换为对应的label\n",
    "\n",
    "- mfua : 对应的label1,label2"
   ]
  },
  {
   "cell_type": "code",
   "execution_count": 15,
   "metadata": {
    "collapsed": true
   },
   "outputs": [],
   "source": [
    "app_label.set_index('app_id',inplace=True)\n",
    "label1_dict = app_label['label_1'].to_dict()\n",
    "label2_dict = app_label['label_2'].to_dict()"
   ]
  },
  {
   "cell_type": "code",
   "execution_count": 16,
   "metadata": {
    "collapsed": true
   },
   "outputs": [],
   "source": [
    "def replace_label1(app_id):\n",
    "    if app_id in set(label1_dict.keys()):\n",
    "        return label1_dict[app_id]\n",
    "    else :\n",
    "        return 'unknow'\n",
    "        \n",
    "def replace_label2(app_id):\n",
    "    if app_id in set(label2_dict.keys()):\n",
    "        return label2_dict[app_id]\n",
    "    else :\n",
    "        return 'unknow'"
   ]
  },
  {
   "cell_type": "code",
   "execution_count": 17,
   "metadata": {
    "collapsed": true
   },
   "outputs": [],
   "source": [
    "features['label_1'] = features.mfua.agg(replace_label1)\n",
    "features['label_2'] = features.mfua.agg(replace_label2)"
   ]
  },
  {
   "cell_type": "markdown",
   "metadata": {},
   "source": [
    "## add device brand features"
   ]
  },
  {
   "cell_type": "code",
   "execution_count": 18,
   "metadata": {
    "collapsed": true
   },
   "outputs": [],
   "source": [
    "device_brand = pd.read_csv('new_feature/device_brand.csv')\n",
    "features = features.merge(device_brand, on='device_id',how='left')\n",
    "# encode\n",
    "features['brand'] = pd.Categorical(features.brand).codes\n",
    "features['model'] = pd.Categorical(features.model).codes\n",
    "features['btype'] = pd.Categorical(features.btype).codes\n",
    "\n",
    "features['mfua'] = pd.Categorical(features.mfua).codes\n",
    "features['label_1'] = pd.Categorical(features.label_1).codes\n",
    "features['label_2'] = pd.Categorical(features.label_2).codes\n",
    "\n",
    "features.to_csv('features/h1.csv',index=False)"
   ]
  },
  {
   "cell_type": "markdown",
   "metadata": {},
   "source": [
    "## Load train_data, test_data"
   ]
  },
  {
   "cell_type": "code",
   "execution_count": 37,
   "metadata": {
    "collapsed": true
   },
   "outputs": [],
   "source": [
    "# train test data\n",
    "train_datapath =  '../Demo/deviceid_train.tsv' \n",
    "test_datapath =  '../Demo/deviceid_test.tsv' \n",
    "train_data, test_data = LoadData(train_datapath, test_datapath)"
   ]
  },
  {
   "cell_type": "markdown",
   "metadata": {},
   "source": [
    "### 第一组特征"
   ]
  },
  {
   "cell_type": "code",
   "execution_count": 67,
   "metadata": {
    "collapsed": true
   },
   "outputs": [],
   "source": [
    "h1_train = train_data.merge(features, on='device_id', how='left')\n",
    "h1_test = test_data.merge(features, on='device_id', how='left')"
   ]
  },
  {
   "cell_type": "markdown",
   "metadata": {},
   "source": [
    "## Xgboost"
   ]
  },
  {
   "cell_type": "code",
   "execution_count": 51,
   "metadata": {
    "collapsed": true
   },
   "outputs": [],
   "source": [
    "import gc\n",
    "import numpy as np\n",
    "import xgboost as xgb\n",
    "import matplotlib.pyplot as plt\n",
    "from sklearn.metrics import log_loss\n",
    "from sklearn.model_selection import StratifiedKFold\n",
    "import warnings\n",
    "warnings.filterwarnings('ignore')\n",
    "%matplotlib inline"
   ]
  },
  {
   "cell_type": "code",
   "execution_count": 79,
   "metadata": {
    "collapsed": true
   },
   "outputs": [],
   "source": [
    "def xgbc_code(train_data, test_data,label, num_class, n_folds=5):\n",
    "    labels = train_data[[label]]\n",
    "    train_data = train_data.drop(['device_id','sex','age','label'],axis=1)\n",
    "    test_data = test_data.drop(['device_id'],axis=1)\n",
    "    train_predvec = np.zeros((train_data.shape[0], num_class))\n",
    "    test_predvec = np.zeros((test_data.shape[0], num_class))\n",
    "    SKF = StratifiedKFold(n_splits = n_folds, shuffle = True, random_state = 2018)\n",
    "    for train_indices, valid_indices in SKF.split(train_data,labels):\n",
    "        # Training data for the fold\n",
    "        x_train = train_data.loc[train_indices, :]\n",
    "        y_train = labels.loc[train_indices, :]\n",
    "        # Validation data for the fold\n",
    "        x_valid = train_data.loc[valid_indices, :]\n",
    "        y_valid = labels.loc[valid_indices, :]\n",
    "        # XGboost\n",
    "        xgbc = xgb.XGBClassifier(max_depth=3, learning_rate=0.111, n_estimators=1000,\n",
    "                         silent=True, objective='multi:softprob',\n",
    "                         booster='gbtree', n_jobs=-1,\n",
    "                         gamma=0, subsample=1,\n",
    "                         colsample_bytree=1, colsample_bylevel=1.,\n",
    "                         reg_alpha=0, reg_lambda=1,\n",
    "                         scale_pos_weight=1,\n",
    "                         base_score=0.5,\n",
    "                         max_delta_step = 0,\n",
    "                         random_state=666)\n",
    "        xgbc.fit(x_train, y_train,\n",
    "                 eval_set=[(x_train, y_train),(x_valid, y_valid)],\n",
    "                 eval_metric = 'mlogloss',\n",
    "                 early_stopping_rounds=10,\n",
    "                 verbose=False)\n",
    "        # record logloss\n",
    "        train_predvec[valid_indices] = xgbc.predict_proba(x_valid)\n",
    "        test_predvec += xgbc.predict_proba(test_data)/n_folds\n",
    "        # Clean up memory\n",
    "        gc.enable()\n",
    "        del xgbc, x_train, y_train, x_valid, y_valid\n",
    "        gc.collect()\n",
    "    return train_predvec, test_predvec"
   ]
  },
  {
   "cell_type": "code",
   "execution_count": 84,
   "metadata": {
    "collapsed": true
   },
   "outputs": [],
   "source": [
    "h1_train, h1_test = xgbc_code(h1_train, h1_test, 'label', 22, 10)\n",
    "\n",
    "np.save('new_feature/h1_train.npy',h1_train)\n",
    "np.save('new_feature/h1_test.npy',h1_test)"
   ]
  },
  {
   "cell_type": "markdown",
   "metadata": {},
   "source": [
    " ----------------------------------------------------------------------------------\n",
    " 第二组特征\n",
    "\n",
    " ## 设备app使用情况"
   ]
  },
  {
   "cell_type": "code",
   "execution_count": 19,
   "metadata": {
    "collapsed": true
   },
   "outputs": [],
   "source": [
    "## CountVector\n",
    "\n",
    "from sklearn.feature_extraction.text import CountVectorizer\n",
    "from sklearn.feature_extraction.text import TfidfTransformer\n",
    "from sklearn.decomposition import TruncatedSVD"
   ]
  },
  {
   "cell_type": "code",
   "execution_count": 20,
   "metadata": {
    "collapsed": true
   },
   "outputs": [],
   "source": [
    "def ret_list(arr):\n",
    "    return list(arr)"
   ]
  },
  {
   "cell_type": "code",
   "execution_count": 21,
   "metadata": {
    "collapsed": true
   },
   "outputs": [],
   "source": [
    "groupfeature = group_obj.app_id.agg(ret_list).reset_index()\n",
    "\n",
    "groupfeature.rename(index=str,columns={0:'app_ids'},inplace=True)\n",
    "\n",
    "app_ids = groupfeature.app_ids.apply(lambda x:' '.join(x)).tolist()"
   ]
  },
  {
   "cell_type": "code",
   "execution_count": 22,
   "metadata": {
    "collapsed": true
   },
   "outputs": [],
   "source": [
    "vectorizer=CountVectorizer()\n",
    "transformer=TfidfTransformer()\n",
    "\n",
    "# 应用使用情况统计\n",
    "cnt_vector = vectorizer.fit_transform(app_ids)\n",
    "# tfidf权重\n",
    "tfidf = transformer.fit_transform(cnt_vector)"
   ]
  },
  {
   "cell_type": "markdown",
   "metadata": {},
   "source": [
    "不同维度的降维"
   ]
  },
  {
   "cell_type": "code",
   "execution_count": null,
   "metadata": {
    "collapsed": true
   },
   "outputs": [],
   "source": [
    "svd300 = TruncatedSVD(n_components=300, n_iter=15, random_state=666)\n",
    "\n",
    "h2_cnt = svd300.fit_transform(cnt_vector)\n",
    "f_names = ['h2_'+str(x) for x in range(300)]\n",
    "h2_cnt = pd.DataFrame(h2_cnt,columns=f_names)\n",
    "h2_cnt['device_id'] = groupfeature.device_id.values\n",
    "# TF-IDF\n",
    "h2_tfidf = svd300.fit_transform(tfidf)\n",
    "f_names = ['h2t_'+str(x) for x in range(300)]\n",
    "h2_tfidf = pd.DataFrame(h2_tfidf,columns=f_names)\n",
    "h2_tfidf['device_id'] = groupfeature.device_id.values\n",
    "# save h2 features\n",
    "\n",
    "h2_cnt.to_csv('features/h2_cnt300.csv',index=False)\n",
    "h2_tfidf.to_csv('features/h2_tfidf300.csv',index=False)"
   ]
  },
  {
   "cell_type": "code",
   "execution_count": 23,
   "metadata": {
    "collapsed": true
   },
   "outputs": [],
   "source": [
    "svd = TruncatedSVD(n_components=550, n_iter=15, random_state=666)\n",
    "\n",
    "svd_cntvec = svd.fit_transform(tfidf)\n",
    "f_names = ['besvd_'+str(x) for x in range(550)]\n",
    "svd_cntvec = pd.DataFrame(svd_cntvec,columns=f_names)\n",
    "# add tfidf_sum columns\n",
    "svd_cntvec['tfidf_sum'] = tfidf.sum(axis=1)\n",
    "svd_cntvec['device_id'] = groupfeature.device_id.values"
   ]
  },
  {
   "cell_type": "markdown",
   "metadata": {},
   "source": [
    "--------------------"
   ]
  },
  {
   "cell_type": "code",
   "execution_count": 97,
   "metadata": {},
   "outputs": [
    {
     "data": {
      "text/plain": [
       "((50000, 555), (22727, 552))"
      ]
     },
     "execution_count": 97,
     "metadata": {},
     "output_type": "execute_result"
    }
   ],
   "source": [
    "h2_train = train_data.merge(svd_cntvec, on='device_id',how='left')\n",
    "h2_test = test_data.merge(svd_cntvec, on='device_id', how='left')"
   ]
  },
  {
   "cell_type": "code",
   "execution_count": 98,
   "metadata": {
    "collapsed": true
   },
   "outputs": [],
   "source": [
    "from sklearn.model_selection import StratifiedKFold\n",
    "from sklearn.neural_network import MLPClassifier\n",
    "from sklearn.metrics import log_loss\n",
    "import warnings\n",
    "warnings.filterwarnings('ignore')"
   ]
  },
  {
   "cell_type": "code",
   "execution_count": 100,
   "metadata": {
    "collapsed": true
   },
   "outputs": [],
   "source": [
    "def train_code(train_data, test_data,label, num_class, n_folds=5):\n",
    "    labels = train_data[[label]]\n",
    "    train_data = train_data.drop(['device_id','sex','age','label'],axis=1)\n",
    "    test_data = test_data.drop(['device_id'],axis=1)\n",
    "    train_predvec = np.zeros((train_data.shape[0], num_class))\n",
    "    test_predvec = np.zeros((test_data.shape[0], num_class))\n",
    "    SKF = StratifiedKFold(n_splits = n_folds, shuffle = True, random_state = 2018)\n",
    "    for train_indices, valid_indices in SKF.split(train_data,labels):\n",
    "        # Training data for the fold\n",
    "        x_train = train_data.loc[train_indices, :]\n",
    "        y_train = labels.loc[train_indices, :]\n",
    "        # Validation data for the fold\n",
    "        x_valid = train_data.loc[valid_indices, :]\n",
    "        y_valid = labels.loc[valid_indices, :]\n",
    "        # MLPC\n",
    "        mlpc = MLPClassifier(hidden_layer_sizes=(640,640,640),\n",
    "                             alpha=0.0033,\n",
    "                             batch_size=128,\n",
    "                             learning_rate='adaptive',\n",
    "                             learning_rate_init=0.00054321,\n",
    "                             random_state=666, verbose=0, early_stopping=True,\n",
    "                             validation_fraction=0.1)\n",
    "        mlpc.fit(x_train, y_train)\n",
    "        \n",
    "        train_predvec[valid_indices] = mlpc.predict_proba(x_valid)\n",
    "        test_predvec += mlpc.predict_proba(test_data)/n_folds\n",
    "        # Clean up memory\n",
    "        gc.enable()\n",
    "        del mlpc, x_train, y_train, x_valid, y_valid\n",
    "        gc.collect()\n",
    "    return train_predvec, test_predvec"
   ]
  },
  {
   "cell_type": "code",
   "execution_count": 101,
   "metadata": {
    "collapsed": true
   },
   "outputs": [
    {
     "name": "stdout",
     "output_type": "stream",
     "text": [
      "Iteration 1, loss = 2.79725290\n",
      "Validation score: 0.145588\n",
      "Iteration 2, loss = 2.68853145\n",
      "Validation score: 0.148700\n",
      "Iteration 3, loss = 2.65345397\n",
      "Validation score: 0.148922\n",
      "Iteration 4, loss = 2.62577089\n",
      "Validation score: 0.147366\n",
      "Iteration 5, loss = 2.60069808\n",
      "Validation score: 0.154034\n",
      "Iteration 6, loss = 2.57252970\n",
      "Validation score: 0.149589\n",
      "Iteration 7, loss = 2.54298901\n",
      "Validation score: 0.150033\n",
      "Iteration 8, loss = 2.51253378\n",
      "Validation score: 0.152256\n",
      "Validation score did not improve more than tol=0.000100 for two consecutive epochs. Stopping.\n",
      "############## one flod is over ##############\n",
      "Iteration 1, loss = 2.80015178\n",
      "Validation score: 0.147111\n",
      "Iteration 2, loss = 2.69281041\n",
      "Validation score: 0.146889\n",
      "Iteration 3, loss = 2.65601798\n",
      "Validation score: 0.151333\n",
      "Iteration 4, loss = 2.62796832\n",
      "Validation score: 0.160667\n",
      "Iteration 5, loss = 2.59958487\n",
      "Validation score: 0.165333\n",
      "Iteration 6, loss = 2.57384382\n",
      "Validation score: 0.158444\n",
      "Iteration 7, loss = 2.54203107\n",
      "Validation score: 0.158222\n",
      "Iteration 8, loss = 2.50514361\n",
      "Validation score: 0.155111\n",
      "Validation score did not improve more than tol=0.000100 for two consecutive epochs. Stopping.\n",
      "############## one flod is over ##############\n",
      "Iteration 1, loss = 2.80222418\n",
      "Validation score: 0.155778\n",
      "Iteration 2, loss = 2.69484166\n",
      "Validation score: 0.161111\n",
      "Iteration 3, loss = 2.65893669\n",
      "Validation score: 0.164222\n",
      "Iteration 4, loss = 2.62695185\n",
      "Validation score: 0.163778\n",
      "Iteration 5, loss = 2.60242006\n",
      "Validation score: 0.162222\n",
      "Iteration 6, loss = 2.57560278\n",
      "Validation score: 0.168667\n",
      "Iteration 7, loss = 2.54469961\n",
      "Validation score: 0.170444\n",
      "Iteration 8, loss = 2.51107988\n",
      "Validation score: 0.161111\n",
      "Iteration 9, loss = 2.47505726\n",
      "Validation score: 0.157778\n",
      "Iteration 10, loss = 2.43531509\n",
      "Validation score: 0.152444\n",
      "Validation score did not improve more than tol=0.000100 for two consecutive epochs. Stopping.\n",
      "############## one flod is over ##############\n",
      "Iteration 1, loss = 2.80359043\n",
      "Validation score: 0.147778\n",
      "Iteration 2, loss = 2.69679763\n",
      "Validation score: 0.154000\n",
      "Iteration 3, loss = 2.66240696\n",
      "Validation score: 0.162000\n",
      "Iteration 4, loss = 2.63392294\n",
      "Validation score: 0.165556\n",
      "Iteration 5, loss = 2.60759357\n",
      "Validation score: 0.166444\n",
      "Iteration 6, loss = 2.58145320\n",
      "Validation score: 0.164444\n",
      "Iteration 7, loss = 2.54909643\n",
      "Validation score: 0.169111\n",
      "Iteration 8, loss = 2.51635571\n",
      "Validation score: 0.165111\n",
      "Iteration 9, loss = 2.47677996\n",
      "Validation score: 0.157333\n",
      "Iteration 10, loss = 2.43454618\n",
      "Validation score: 0.157556\n",
      "Validation score did not improve more than tol=0.000100 for two consecutive epochs. Stopping.\n",
      "############## one flod is over ##############\n",
      "Iteration 1, loss = 2.79963371\n",
      "Validation score: 0.131778\n",
      "Iteration 2, loss = 2.69171397\n",
      "Validation score: 0.149556\n",
      "Iteration 3, loss = 2.65408223\n",
      "Validation score: 0.159111\n",
      "Iteration 4, loss = 2.62682674\n",
      "Validation score: 0.156000\n",
      "Iteration 5, loss = 2.60306729\n",
      "Validation score: 0.153778\n",
      "Iteration 6, loss = 2.57483695\n",
      "Validation score: 0.161778\n",
      "Iteration 7, loss = 2.54452474\n",
      "Validation score: 0.161556\n",
      "Iteration 8, loss = 2.51589509\n",
      "Validation score: 0.160889\n",
      "Iteration 9, loss = 2.47751163\n",
      "Validation score: 0.164000\n",
      "Iteration 10, loss = 2.44346215\n",
      "Validation score: 0.166444\n",
      "Iteration 11, loss = 2.39780720\n",
      "Validation score: 0.158889\n",
      "Iteration 12, loss = 2.34711353\n",
      "Validation score: 0.153556\n",
      "Iteration 13, loss = 2.29690536\n",
      "Validation score: 0.147333\n",
      "Validation score did not improve more than tol=0.000100 for two consecutive epochs. Stopping.\n",
      "############## one flod is over ##############\n",
      "Iteration 1, loss = 2.80285267\n",
      "Validation score: 0.145079\n",
      "Iteration 2, loss = 2.69317998\n",
      "Validation score: 0.149300\n",
      "Iteration 3, loss = 2.65769910\n",
      "Validation score: 0.148856\n",
      "Iteration 4, loss = 2.63148996\n",
      "Validation score: 0.160409\n",
      "Iteration 5, loss = 2.60732601\n",
      "Validation score: 0.153521\n",
      "Iteration 6, loss = 2.58015176\n",
      "Validation score: 0.155299\n",
      "Iteration 7, loss = 2.55019454\n",
      "Validation score: 0.157965\n",
      "Validation score did not improve more than tol=0.000100 for two consecutive epochs. Stopping.\n",
      "############## one flod is over ##############\n",
      "Iteration 1, loss = 2.79944502\n",
      "Validation score: 0.145301\n",
      "Iteration 2, loss = 2.69059543\n",
      "Validation score: 0.157965\n",
      "Iteration 3, loss = 2.65644885\n",
      "Validation score: 0.156632\n",
      "Iteration 4, loss = 2.62822541\n",
      "Validation score: 0.158631\n",
      "Iteration 5, loss = 2.60201074\n",
      "Validation score: 0.169740\n",
      "Iteration 6, loss = 2.57651661\n",
      "Validation score: 0.161297\n",
      "Iteration 7, loss = 2.54359191\n",
      "Validation score: 0.159742\n",
      "Iteration 8, loss = 2.51522563\n",
      "Validation score: 0.163741\n",
      "Validation score did not improve more than tol=0.000100 for two consecutive epochs. Stopping.\n",
      "############## one flod is over ##############\n",
      "Iteration 1, loss = 2.79939427\n",
      "Validation score: 0.136636\n",
      "Iteration 2, loss = 2.69142009\n",
      "Validation score: 0.153299\n",
      "Iteration 3, loss = 2.65585812\n",
      "Validation score: 0.159076\n",
      "Iteration 4, loss = 2.62835412\n",
      "Validation score: 0.153521\n",
      "Iteration 5, loss = 2.60272054\n",
      "Validation score: 0.160631\n",
      "Iteration 6, loss = 2.57678337\n",
      "Validation score: 0.161520\n",
      "Iteration 7, loss = 2.54786045\n",
      "Validation score: 0.153299\n",
      "Iteration 8, loss = 2.51380661\n",
      "Validation score: 0.154632\n",
      "Iteration 9, loss = 2.47877938\n",
      "Validation score: 0.148411\n",
      "Validation score did not improve more than tol=0.000100 for two consecutive epochs. Stopping.\n",
      "############## one flod is over ##############\n",
      "Iteration 1, loss = 2.80208832\n",
      "Validation score: 0.154854\n",
      "Iteration 2, loss = 2.69464671\n",
      "Validation score: 0.155077\n",
      "Iteration 3, loss = 2.65989409\n",
      "Validation score: 0.168851\n",
      "Iteration 4, loss = 2.63396349\n",
      "Validation score: 0.165074\n",
      "Iteration 5, loss = 2.60643228\n",
      "Validation score: 0.158187\n",
      "Iteration 6, loss = 2.58065270\n",
      "Validation score: 0.165963\n",
      "Validation score did not improve more than tol=0.000100 for two consecutive epochs. Stopping.\n",
      "############## one flod is over ##############\n",
      "Iteration 1, loss = 2.80000141\n",
      "Validation score: 0.141746\n",
      "Iteration 2, loss = 2.69177100\n",
      "Validation score: 0.150633\n",
      "Iteration 3, loss = 2.65593458\n",
      "Validation score: 0.160187\n",
      "Iteration 4, loss = 2.62762614\n",
      "Validation score: 0.155077\n",
      "Iteration 5, loss = 2.60246939\n",
      "Validation score: 0.154854\n",
      "Iteration 6, loss = 2.57281523\n",
      "Validation score: 0.163297\n",
      "Iteration 7, loss = 2.54442474\n",
      "Validation score: 0.156188\n",
      "Iteration 8, loss = 2.50795791\n",
      "Validation score: 0.156188\n",
      "Iteration 9, loss = 2.47116280\n",
      "Validation score: 0.152633\n",
      "Validation score did not improve more than tol=0.000100 for two consecutive epochs. Stopping.\n",
      "############## one flod is over ##############\n"
     ]
    }
   ],
   "source": [
    "h2_train, h2_test = train_code(h2_train, h2_test, 'label', 22, 10)"
   ]
  },
  {
   "cell_type": "code",
   "execution_count": 104,
   "metadata": {
    "collapsed": true
   },
   "outputs": [],
   "source": [
    "np.save('new_feature/h2_train.npy',h2_train)\n",
    "np.save('new_feature/h2_test.npy',h2_test)"
   ]
  }
 ],
 "metadata": {
  "kernelspec": {
   "display_name": "Python [conda env:python35]",
   "language": "python",
   "name": "conda-env-python35-py"
  },
  "language_info": {
   "codemirror_mode": {
    "name": "ipython",
    "version": 3
   },
   "file_extension": ".py",
   "mimetype": "text/x-python",
   "name": "python",
   "nbconvert_exporter": "python",
   "pygments_lexer": "ipython3",
   "version": "3.5.3"
  }
 },
 "nbformat": 4,
 "nbformat_minor": 2
}
