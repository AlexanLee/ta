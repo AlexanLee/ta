{
 "cells": [
  {
   "cell_type": "code",
   "execution_count": 1,
   "metadata": {},
   "outputs": [
    {
     "name": "stderr",
     "output_type": "stream",
     "text": [
      "Using TensorFlow backend.\n"
     ]
    }
   ],
   "source": [
    "from __future__ import print_function\n",
    "import numpy as np\n",
    "import pandas as pd\n",
    "import matplotlib.pyplot as plt\n",
    "from sklearn.model_selection import train_test_split\n",
    "from keras.datasets import mnist\n",
    "from keras.models import Sequential\n",
    "from keras.layers.core import Dense, Dropout, Activation\n",
    "from keras.optimizers import RMSprop, Adam\n",
    "from keras.utils import np_utils\n",
    "from keras.callbacks import ReduceLROnPlateau, EarlyStopping\n",
    "%matplotlib inline\n",
    "np.random.seed(1671) # for reproducibility"
   ]
  },
  {
   "cell_type": "markdown",
   "metadata": {},
   "source": [
    "### Load Train/test data"
   ]
  },
  {
   "cell_type": "code",
   "execution_count": 2,
   "metadata": {
    "collapsed": true
   },
   "outputs": [],
   "source": [
    "train_data = pd.read_csv('../Demo/deviceid_train.tsv',sep='\\t',names=['device_id','sex','age'])\n",
    "test_data = pd.read_csv('../Demo/deviceid_test.tsv',sep='\\t',names=['device_id'])\n",
    "\n",
    "train_data['label'] = train_data.sex.astype(str)+'-'+train_data.age.astype(str)\n",
    "\n",
    "labelencode_dict = {}\n",
    "labels = ['1-0', '1-1', '1-2', '1-3', '1-4', '1-5', '1-6', '1-7','1-8', '1-9', '1-10',\n",
    "          '2-0', '2-1', '2-2', '2-3','2-4', '2-5', '2-6', '2-7', '2-8', '2-9', '2-10']\n",
    "for i,label in enumerate(labels):\n",
    "    labelencode_dict[label] = i\n",
    "#--------------------------\n",
    "train_data.label.replace(labelencode_dict,inplace=True)"
   ]
  },
  {
   "cell_type": "markdown",
   "metadata": {},
   "source": [
    "### load new features"
   ]
  },
  {
   "cell_type": "code",
   "execution_count": 3,
   "metadata": {
    "collapsed": true
   },
   "outputs": [],
   "source": [
    "\n",
    "applist_train = np.load('new_feature/applist_train.npy')\n",
    "applist_test = np.load('new_feature/applist_test.npy')\n",
    "label_train = np.load('new_feature/label_train.npy')\n",
    "label_test = np.load('new_feature/label_test.npy')\n",
    "h1_train = np.load('new_feature/h1_train.npy')\n",
    "h1_test = np.load('new_feature/h1_test.npy')\n",
    "h2_train = np.load('new_feature/h2_train.npy')\n",
    "h2_test = np.load('new_feature/h2_test.npy')\n",
    "h3_train = np.load('new_feature/h3_train.npy')\n",
    "h3_test = np.load('new_feature/h3_test.npy')\n",
    "b1_train = np.load('new_feature/brand_train.npy')\n",
    "b1_test = np.load('new_feature/brand_test.npy')\n",
    "age_train = np.load('new_feature/age_train.npy')\n",
    "age_test = np.load('new_feature/age_test.npy')\n",
    "sex_train = np.load('new_feature/sex_train.npy')\n",
    "sex_test = np.load('new_feature/sex_test.npy')\n",
    "\n",
    "train_set = np.concatenate([applist_train,h1_train,label_train,h2_train,b1_train,\n",
    "                            h3_train,age_train,sex_train],axis=1)\n",
    "test_set = np.concatenate([applist_test,h1_test,label_test,h2_test,b1_test,\n",
    "                           h3_test,age_test, sex_test],axis=1)\n"
   ]
  },
  {
   "cell_type": "code",
   "execution_count": 4,
   "metadata": {},
   "outputs": [
    {
     "data": {
      "text/plain": [
       "(50000, 145)"
      ]
     },
     "execution_count": 4,
     "metadata": {},
     "output_type": "execute_result"
    }
   ],
   "source": [
    "train_set.shape"
   ]
  },
  {
   "cell_type": "code",
   "execution_count": 5,
   "metadata": {
    "collapsed": true
   },
   "outputs": [],
   "source": [
    "# network and training\n",
    "NB_EPOCH = 40\n",
    "BATCH_SIZE = 520\n",
    "VERBOSE = 1\n",
    "NB_CLASSES = 22                           # number of outputs = number of digits\n",
    "OPTIMIZER = Adam(lr=0.0003, decay=0)       # optimizer, explained later in this chapter\n",
    "N_HIDDEN = 720\n",
    "VALIDATION_SPLIT=0.1                      # how much TRAIN is reserved for VALIDATION\n",
    "DROPOUT = 0.1\n",
    "RESHAPED = 145"
   ]
  },
  {
   "cell_type": "code",
   "execution_count": 6,
   "metadata": {
    "collapsed": true
   },
   "outputs": [],
   "source": [
    "labels = train_data[['label']]\n",
    "x_train,x_valid, y_train, y_valid = train_test_split(train_set, labels,test_size=0.1,random_state=666)\n",
    "\n",
    "# convert class vectors to binary class matrices\n",
    "y_train = np_utils.to_categorical(y_train, NB_CLASSES)\n",
    "y_valid = np_utils.to_categorical(y_valid, NB_CLASSES)"
   ]
  },
  {
   "cell_type": "code",
   "execution_count": 7,
   "metadata": {
    "collapsed": true
   },
   "outputs": [],
   "source": [
    "# M_HIDDEN hidden layers 10 outputs\n",
    "model = Sequential()\n",
    "model.add(Dense(N_HIDDEN, input_shape=(RESHAPED,)))\n",
    "model.add(Activation('relu'))\n",
    "#model.add(Dropout(DROPOUT))\n",
    "model.add(Dense(N_HIDDEN))\n",
    "model.add(Activation('relu'))\n",
    "model.add(Dropout(DROPOUT))\n",
    "model.add(Dense(N_HIDDEN))\n",
    "model.add(Activation('relu'))\n",
    "model.add(Dropout(DROPOUT))\n",
    "model.add(Dense(N_HIDDEN))\n",
    "model.add(Activation('relu'))\n",
    "model.add(Dense(NB_CLASSES))\n",
    "model.add(Activation('softmax'))"
   ]
  },
  {
   "cell_type": "code",
   "execution_count": 8,
   "metadata": {},
   "outputs": [
    {
     "name": "stdout",
     "output_type": "stream",
     "text": [
      "_________________________________________________________________\n",
      "Layer (type)                 Output Shape              Param #   \n",
      "=================================================================\n",
      "dense_1 (Dense)              (None, 720)               105120    \n",
      "_________________________________________________________________\n",
      "activation_1 (Activation)    (None, 720)               0         \n",
      "_________________________________________________________________\n",
      "dense_2 (Dense)              (None, 720)               519120    \n",
      "_________________________________________________________________\n",
      "activation_2 (Activation)    (None, 720)               0         \n",
      "_________________________________________________________________\n",
      "dropout_1 (Dropout)          (None, 720)               0         \n",
      "_________________________________________________________________\n",
      "dense_3 (Dense)              (None, 720)               519120    \n",
      "_________________________________________________________________\n",
      "activation_3 (Activation)    (None, 720)               0         \n",
      "_________________________________________________________________\n",
      "dropout_2 (Dropout)          (None, 720)               0         \n",
      "_________________________________________________________________\n",
      "dense_4 (Dense)              (None, 720)               519120    \n",
      "_________________________________________________________________\n",
      "activation_4 (Activation)    (None, 720)               0         \n",
      "_________________________________________________________________\n",
      "dense_5 (Dense)              (None, 22)                15862     \n",
      "_________________________________________________________________\n",
      "activation_5 (Activation)    (None, 22)                0         \n",
      "=================================================================\n",
      "Total params: 1,678,342\n",
      "Trainable params: 1,678,342\n",
      "Non-trainable params: 0\n",
      "_________________________________________________________________\n"
     ]
    }
   ],
   "source": [
    "model.summary()"
   ]
  },
  {
   "cell_type": "code",
   "execution_count": 9,
   "metadata": {
    "collapsed": true
   },
   "outputs": [],
   "source": [
    "# early_stop\n",
    "early_stop = EarlyStopping(monitor='val_loss',min_delta=0.005,\n",
    "                           patience=3, verbose=2,\n",
    "                           mode='min', baseline=None)\n",
    "                           #restore_best_weights=True)\n",
    "# lr \n",
    "learning_rate_reduction = ReduceLROnPlateau(monitor = 'val_loss', \n",
    "                                            patience = 3,mode='min',\n",
    "                                            min_delta = 0.001,\n",
    "                                            verbose = 2, factor=0.5, min_lr = 0.00001) "
   ]
  },
  {
   "cell_type": "code",
   "execution_count": 10,
   "metadata": {
    "collapsed": true
   },
   "outputs": [],
   "source": [
    "model.compile(loss='categorical_crossentropy',\n",
    "              optimizer=OPTIMIZER,\n",
    "              metrics=['accuracy'])"
   ]
  },
  {
   "cell_type": "code",
   "execution_count": 11,
   "metadata": {},
   "outputs": [
    {
     "name": "stdout",
     "output_type": "stream",
     "text": [
      "Train on 40500 samples, validate on 4500 samples\n",
      "Epoch 1/40\n",
      " - 11s - loss: 2.7841 - acc: 0.1388 - val_loss: 2.6415 - val_acc: 0.1651\n",
      "Epoch 2/40\n",
      " - 10s - loss: 2.6203 - acc: 0.1747 - val_loss: 2.6121 - val_acc: 0.1784\n",
      "Epoch 3/40\n",
      " - 10s - loss: 2.5990 - acc: 0.1786 - val_loss: 2.6037 - val_acc: 0.1793\n",
      "Epoch 4/40\n",
      " - 10s - loss: 2.5911 - acc: 0.1818 - val_loss: 2.5989 - val_acc: 0.1838\n",
      "Epoch 5/40\n",
      " - 10s - loss: 2.5832 - acc: 0.1835 - val_loss: 2.5977 - val_acc: 0.1811\n",
      "Epoch 6/40\n",
      " - 10s - loss: 2.5804 - acc: 0.1824 - val_loss: 2.5946 - val_acc: 0.1787\n",
      "Epoch 7/40\n",
      " - 11s - loss: 2.5750 - acc: 0.1858 - val_loss: 2.5897 - val_acc: 0.1827\n",
      "Epoch 8/40\n",
      " - 11s - loss: 2.5726 - acc: 0.1847 - val_loss: 2.5908 - val_acc: 0.1842\n",
      "Epoch 9/40\n",
      " - 11s - loss: 2.5697 - acc: 0.1852 - val_loss: 2.5897 - val_acc: 0.1793\n",
      "Epoch 10/40\n",
      " - 11s - loss: 2.5681 - acc: 0.1870 - val_loss: 2.5892 - val_acc: 0.1867\n",
      "\n",
      "Epoch 00010: ReduceLROnPlateau reducing learning rate to 0.0001500000071246177.\n",
      "Epoch 11/40\n",
      " - 11s - loss: 2.5603 - acc: 0.1894 - val_loss: 2.5896 - val_acc: 0.1807\n",
      "Epoch 12/40\n",
      " - 11s - loss: 2.5574 - acc: 0.1906 - val_loss: 2.5850 - val_acc: 0.1876\n",
      "Epoch 13/40\n",
      " - 11s - loss: 2.5562 - acc: 0.1906 - val_loss: 2.5854 - val_acc: 0.1844\n",
      "Epoch 14/40\n",
      " - 11s - loss: 2.5548 - acc: 0.1899 - val_loss: 2.5844 - val_acc: 0.1860\n",
      "Epoch 15/40\n",
      " - 11s - loss: 2.5544 - acc: 0.1918 - val_loss: 2.5857 - val_acc: 0.1811\n",
      "\n",
      "Epoch 00015: ReduceLROnPlateau reducing learning rate to 7.500000356230885e-05.\n",
      "Epoch 16/40\n",
      " - 11s - loss: 2.5498 - acc: 0.1899 - val_loss: 2.5866 - val_acc: 0.1853\n",
      "Epoch 17/40\n",
      " - 11s - loss: 2.5483 - acc: 0.1906 - val_loss: 2.5839 - val_acc: 0.1849\n",
      "Epoch 18/40\n",
      " - 11s - loss: 2.5472 - acc: 0.1919 - val_loss: 2.5863 - val_acc: 0.1842\n",
      "Epoch 19/40\n",
      " - 11s - loss: 2.5466 - acc: 0.1927 - val_loss: 2.5856 - val_acc: 0.1836\n",
      "Epoch 20/40\n",
      " - 11s - loss: 2.5455 - acc: 0.1927 - val_loss: 2.5838 - val_acc: 0.1829\n",
      "\n",
      "Epoch 00020: ReduceLROnPlateau reducing learning rate to 3.7500001781154424e-05.\n",
      "Epoch 21/40\n",
      " - 11s - loss: 2.5437 - acc: 0.1938 - val_loss: 2.5834 - val_acc: 0.1858\n",
      "Epoch 22/40\n",
      " - 11s - loss: 2.5426 - acc: 0.1936 - val_loss: 2.5842 - val_acc: 0.1856\n",
      "Epoch 23/40\n",
      " - 11s - loss: 2.5426 - acc: 0.1917 - val_loss: 2.5849 - val_acc: 0.1842\n",
      "\n",
      "Epoch 00023: ReduceLROnPlateau reducing learning rate to 1.8750000890577212e-05.\n",
      "Epoch 24/40\n",
      " - 11s - loss: 2.5415 - acc: 0.1932 - val_loss: 2.5835 - val_acc: 0.1827\n",
      "Epoch 25/40\n",
      " - 11s - loss: 2.5412 - acc: 0.1940 - val_loss: 2.5834 - val_acc: 0.1829\n",
      "Epoch 26/40\n",
      " - 11s - loss: 2.5413 - acc: 0.1941 - val_loss: 2.5836 - val_acc: 0.1838\n",
      "\n",
      "Epoch 00026: ReduceLROnPlateau reducing learning rate to 1e-05.\n",
      "Epoch 27/40\n",
      " - 11s - loss: 2.5400 - acc: 0.1949 - val_loss: 2.5835 - val_acc: 0.1842\n",
      "Epoch 28/40\n",
      " - 11s - loss: 2.5400 - acc: 0.1929 - val_loss: 2.5841 - val_acc: 0.1849\n",
      "Epoch 29/40\n",
      " - 11s - loss: 2.5400 - acc: 0.1929 - val_loss: 2.5836 - val_acc: 0.1829\n",
      "Epoch 30/40\n",
      " - 11s - loss: 2.5397 - acc: 0.1949 - val_loss: 2.5842 - val_acc: 0.1844\n",
      "Epoch 31/40\n",
      " - 11s - loss: 2.5393 - acc: 0.1940 - val_loss: 2.5838 - val_acc: 0.1831\n",
      "Epoch 32/40\n",
      " - 11s - loss: 2.5387 - acc: 0.1949 - val_loss: 2.5836 - val_acc: 0.1840\n",
      "Epoch 33/40\n",
      " - 11s - loss: 2.5397 - acc: 0.1941 - val_loss: 2.5836 - val_acc: 0.1829\n",
      "Epoch 34/40\n",
      " - 11s - loss: 2.5396 - acc: 0.1943 - val_loss: 2.5832 - val_acc: 0.1836\n",
      "Epoch 35/40\n",
      " - 11s - loss: 2.5394 - acc: 0.1938 - val_loss: 2.5834 - val_acc: 0.1836\n",
      "Epoch 36/40\n",
      " - 11s - loss: 2.5388 - acc: 0.1940 - val_loss: 2.5835 - val_acc: 0.1849\n",
      "Epoch 37/40\n",
      " - 11s - loss: 2.5388 - acc: 0.1943 - val_loss: 2.5834 - val_acc: 0.1838\n",
      "Epoch 38/40\n",
      " - 11s - loss: 2.5388 - acc: 0.1940 - val_loss: 2.5841 - val_acc: 0.1847\n",
      "Epoch 39/40\n",
      " - 11s - loss: 2.5388 - acc: 0.1943 - val_loss: 2.5840 - val_acc: 0.1847\n",
      "Epoch 40/40\n",
      " - 11s - loss: 2.5386 - acc: 0.1949 - val_loss: 2.5837 - val_acc: 0.1842\n"
     ]
    }
   ],
   "source": [
    "history = model.fit(x_train, y_train,\n",
    "                    batch_size=BATCH_SIZE,\n",
    "                    epochs=NB_EPOCH,\n",
    "                    verbose=2,\n",
    "                    validation_split=VALIDATION_SPLIT,\n",
    "                    callbacks=[learning_rate_reduction])"
   ]
  },
  {
   "cell_type": "code",
   "execution_count": 12,
   "metadata": {},
   "outputs": [
    {
     "name": "stdout",
     "output_type": "stream",
     "text": [
      "Test score: 2.56084939232\n",
      "Test accuracy: 0.1922\n"
     ]
    }
   ],
   "source": [
    "score = model.evaluate(x_valid, y_valid, verbose=2)\n",
    "print(\"Test score:\", score[0])\n",
    "print('Test accuracy:', score[1])"
   ]
  },
  {
   "cell_type": "code",
   "execution_count": 13,
   "metadata": {},
   "outputs": [
    {
     "data": {
      "image/png": "[encoded data removed]",
      "text/plain": [
       "<Figure size 720x720 with 2 Axes>"
      ]
     },
     "metadata": {},
     "output_type": "display_data"
    }
   ],
   "source": [
    "fig,ax = plt.subplots(2,1,figsize=(10,10))\n",
    "ax[0].plot(history.history['loss'], color='r', label='Training Loss')\n",
    "ax[0].plot(history.history['val_loss'], color='g', label='Validation Loss')\n",
    "ax[0].legend(loc='best',shadow=True)\n",
    "ax[0].grid(True)\n",
    "\n",
    "\n",
    "ax[1].plot(history.history['acc'], color='r', label='Training Accuracy')\n",
    "ax[1].plot(history.history['val_acc'], color='g', label='Validation Accuracy')\n",
    "ax[1].legend(loc='best',shadow=True)\n",
    "ax[1].grid(True)\n"
   ]
  },
  {
   "cell_type": "code",
   "execution_count": 14,
   "metadata": {
    "collapsed": true
   },
   "outputs": [],
   "source": [
    "result = model.predict_proba(test_set)"
   ]
  },
  {
   "cell_type": "code",
   "execution_count": 15,
   "metadata": {
    "collapsed": true
   },
   "outputs": [],
   "source": [
    "def make_submit(result,test_id):\n",
    "    result = pd.DataFrame(result,\n",
    "                          columns=['1-0', '1-1', '1-2', '1-3', '1-4', '1-5', '1-6', '1-7',\n",
    "                                   '1-8', '1-9', '1-10', '2-0', '2-1', '2-2', '2-3','2-4', '2-5', '2-6', '2-7', '2-8', \n",
    "                                   '2-9', '2-10'])\n",
    "    result['DeviceID'] = test_id.values\n",
    "    result = result[['DeviceID']+list(result.columns[:-1])]\n",
    "    return result"
   ]
  },
  {
   "cell_type": "code",
   "execution_count": 16,
   "metadata": {
    "collapsed": true
   },
   "outputs": [],
   "source": [
    "result = make_submit(result, test_data.device_id)"
   ]
  },
  {
   "cell_type": "code",
   "execution_count": 17,
   "metadata": {},
   "outputs": [
    {
     "data": {
      "text/html": [
       "<div>\n",
       "<style>\n",
       "    .dataframe thead tr:only-child th {\n",
       "        text-align: right;\n",
       "    }\n",
       "\n",
       "    .dataframe thead th {\n",
       "        text-align: left;\n",
       "    }\n",
       "\n",
       "    .dataframe tbody tr th {\n",
       "        vertical-align: top;\n",
       "    }\n",
       "</style>\n",
       "<table border=\"1\" class=\"dataframe\">\n",
       "  <thead>\n",
       "    <tr style=\"text-align: right;\">\n",
       "      <th></th>\n",
       "      <th>DeviceID</th>\n",
       "      <th>1-0</th>\n",
       "      <th>1-1</th>\n",
       "      <th>1-2</th>\n",
       "      <th>1-3</th>\n",
       "      <th>1-4</th>\n",
       "      <th>1-5</th>\n",
       "      <th>1-6</th>\n",
       "      <th>1-7</th>\n",
       "      <th>1-8</th>\n",
       "      <th>...</th>\n",
       "      <th>2-1</th>\n",
       "      <th>2-2</th>\n",
       "      <th>2-3</th>\n",
       "      <th>2-4</th>\n",
       "      <th>2-5</th>\n",
       "      <th>2-6</th>\n",
       "      <th>2-7</th>\n",
       "      <th>2-8</th>\n",
       "      <th>2-9</th>\n",
       "      <th>2-10</th>\n",
       "    </tr>\n",
       "  </thead>\n",
       "  <tbody>\n",
       "    <tr>\n",
       "      <th>0</th>\n",
       "      <td>2e95e7361f04b5c5c0662e1dcb6fbc65</td>\n",
       "      <td>0.000569</td>\n",
       "      <td>0.007042</td>\n",
       "      <td>0.034317</td>\n",
       "      <td>0.098292</td>\n",
       "      <td>0.122185</td>\n",
       "      <td>0.100343</td>\n",
       "      <td>0.108132</td>\n",
       "      <td>0.092085</td>\n",
       "      <td>0.063334</td>\n",
       "      <td>...</td>\n",
       "      <td>0.002928</td>\n",
       "      <td>0.016581</td>\n",
       "      <td>0.039154</td>\n",
       "      <td>0.044352</td>\n",
       "      <td>0.036252</td>\n",
       "      <td>0.047838</td>\n",
       "      <td>0.042489</td>\n",
       "      <td>0.033903</td>\n",
       "      <td>0.018653</td>\n",
       "      <td>0.014871</td>\n",
       "    </tr>\n",
       "    <tr>\n",
       "      <th>1</th>\n",
       "      <td>42013074fa7d8d11768e6d3c3e58df56</td>\n",
       "      <td>0.000288</td>\n",
       "      <td>0.006714</td>\n",
       "      <td>0.046025</td>\n",
       "      <td>0.144233</td>\n",
       "      <td>0.139555</td>\n",
       "      <td>0.108052</td>\n",
       "      <td>0.103973</td>\n",
       "      <td>0.071915</td>\n",
       "      <td>0.043098</td>\n",
       "      <td>...</td>\n",
       "      <td>0.003131</td>\n",
       "      <td>0.019458</td>\n",
       "      <td>0.052895</td>\n",
       "      <td>0.050340</td>\n",
       "      <td>0.039591</td>\n",
       "      <td>0.055868</td>\n",
       "      <td>0.048905</td>\n",
       "      <td>0.020500</td>\n",
       "      <td>0.010511</td>\n",
       "      <td>0.005510</td>\n",
       "    </tr>\n",
       "    <tr>\n",
       "      <th>2</th>\n",
       "      <td>9cc488a211a7c355f99c52ed42e34cb1</td>\n",
       "      <td>0.000183</td>\n",
       "      <td>0.001658</td>\n",
       "      <td>0.006586</td>\n",
       "      <td>0.021762</td>\n",
       "      <td>0.049684</td>\n",
       "      <td>0.059146</td>\n",
       "      <td>0.062095</td>\n",
       "      <td>0.079335</td>\n",
       "      <td>0.100114</td>\n",
       "      <td>...</td>\n",
       "      <td>0.000753</td>\n",
       "      <td>0.004176</td>\n",
       "      <td>0.014614</td>\n",
       "      <td>0.031807</td>\n",
       "      <td>0.034185</td>\n",
       "      <td>0.027499</td>\n",
       "      <td>0.030562</td>\n",
       "      <td>0.032591</td>\n",
       "      <td>0.031692</td>\n",
       "      <td>0.070365</td>\n",
       "    </tr>\n",
       "  </tbody>\n",
       "</table>\n",
       "<p>3 rows × 23 columns</p>\n",
       "</div>"
      ],
      "text/plain": [
       "                           DeviceID       1-0       1-1       1-2       1-3  \\\n",
       "0  2e95e7361f04b5c5c0662e1dcb6fbc65  0.000569  0.007042  0.034317  0.098292   \n",
       "1  42013074fa7d8d11768e6d3c3e58df56  0.000288  0.006714  0.046025  0.144233   \n",
       "2  9cc488a211a7c355f99c52ed42e34cb1  0.000183  0.001658  0.006586  0.021762   \n",
       "\n",
       "        1-4       1-5       1-6       1-7       1-8    ...          2-1  \\\n",
       "0  0.122185  0.100343  0.108132  0.092085  0.063334    ...     0.002928   \n",
       "1  0.139555  0.108052  0.103973  0.071915  0.043098    ...     0.003131   \n",
       "2  0.049684  0.059146  0.062095  0.079335  0.100114    ...     0.000753   \n",
       "\n",
       "        2-2       2-3       2-4       2-5       2-6       2-7       2-8  \\\n",
       "0  0.016581  0.039154  0.044352  0.036252  0.047838  0.042489  0.033903   \n",
       "1  0.019458  0.052895  0.050340  0.039591  0.055868  0.048905  0.020500   \n",
       "2  0.004176  0.014614  0.031807  0.034185  0.027499  0.030562  0.032591   \n",
       "\n",
       "        2-9      2-10  \n",
       "0  0.018653  0.014871  \n",
       "1  0.010511  0.005510  \n",
       "2  0.031692  0.070365  \n",
       "\n",
       "[3 rows x 23 columns]"
      ]
     },
     "execution_count": 17,
     "metadata": {},
     "output_type": "execute_result"
    }
   ],
   "source": [
    "result.head(3)"
   ]
  },
  {
   "cell_type": "code",
   "execution_count": 18,
   "metadata": {
    "collapsed": true
   },
   "outputs": [],
   "source": [
    "result.to_csv('submit/ensemble_20.csv',index=False)"
   ]
  },
  {
   "cell_type": "code",
   "execution_count": null,
   "metadata": {
    "collapsed": true
   },
   "outputs": [],
   "source": []
  }
 ],
 "metadata": {
  "kernelspec": {
   "display_name": "Python [conda env:python35]",
   "language": "python",
   "name": "conda-env-python35-py"
  },
  "language_info": {
   "codemirror_mode": {
    "name": "ipython",
    "version": 3
   },
   "file_extension": ".py",
   "mimetype": "text/x-python",
   "name": "python",
   "nbconvert_exporter": "python",
   "pygments_lexer": "ipython3",
   "version": "3.5.3"
  }
 },
 "nbformat": 4,
 "nbformat_minor": 2
}
