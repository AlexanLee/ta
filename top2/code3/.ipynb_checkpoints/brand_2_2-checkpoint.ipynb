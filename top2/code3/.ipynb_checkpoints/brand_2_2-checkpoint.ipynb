{
 "cells": [
  {
   "cell_type": "code",
   "execution_count": 1,
   "metadata": {
    "collapsed": true
   },
   "outputs": [],
   "source": [
    "import gc\n",
    "import numpy as np\n",
    "import pandas as pd\n",
    "import xgboost as xgb\n",
    "from sklearn.decomposition import TruncatedSVD\n",
    "import matplotlib.pyplot as plt\n",
    "import warnings\n",
    "warnings.filterwarnings('ignore')\n",
    "%matplotlib inline"
   ]
  },
  {
   "cell_type": "markdown",
   "metadata": {},
   "source": [
    "机型数据：每个设备的品牌和型号【deviceid_brand.tsv】"
   ]
  },
  {
   "cell_type": "code",
   "execution_count": 2,
   "metadata": {
    "collapsed": true
   },
   "outputs": [],
   "source": [
    "train_data = pd.read_csv('../Demo/deviceid_train.tsv',sep='\\t',\n",
    "                         names=['device_id','sex','age'])\n",
    "test_data = pd.read_csv('../Demo/deviceid_test.tsv',sep='\\t',names=['device_id'])\n",
    "\n",
    "device_brand = pd.read_csv('new_feature/device_brand.csv')"
   ]
  },
  {
   "cell_type": "markdown",
   "metadata": {},
   "source": [
    "label =  sex+age, one-hot encode"
   ]
  },
  {
   "cell_type": "code",
   "execution_count": 3,
   "metadata": {
    "collapsed": true
   },
   "outputs": [],
   "source": [
    "train_data['label'] = train_data.sex.astype(str)+'-'+train_data.age.astype(str)\n",
    "\n",
    "labelencode_dict = {}\n",
    "labels = ['1-0', '1-1', '1-2', '1-3', '1-4', '1-5', '1-6', '1-7','1-8', '1-9', '1-10',\n",
    "          '2-0', '2-1', '2-2', '2-3','2-4', '2-5', '2-6', '2-7', '2-8', '2-9', '2-10']\n",
    "for i,label in enumerate(labels):\n",
    "    labelencode_dict[label] = i\n",
    "#--------------------------\n",
    "train_data.label.replace(labelencode_dict,inplace=True)"
   ]
  },
  {
   "cell_type": "code",
   "execution_count": 4,
   "metadata": {
    "collapsed": true
   },
   "outputs": [],
   "source": [
    "train_data.drop(['sex','age'],axis=1,inplace=True)\n",
    "\n",
    "test_data['label'] = 'unknow'\n",
    "\n",
    "data = train_data.append(test_data)"
   ]
  },
  {
   "cell_type": "markdown",
   "metadata": {},
   "source": [
    "Merge device_brand"
   ]
  },
  {
   "cell_type": "code",
   "execution_count": 5,
   "metadata": {
    "collapsed": true
   },
   "outputs": [],
   "source": [
    "data = data.merge(device_brand,on='device_id',how='left')\n",
    "\n",
    "data.fillna('unknow',inplace=True)"
   ]
  },
  {
   "cell_type": "markdown",
   "metadata": {},
   "source": [
    "brand one-hot"
   ]
  },
  {
   "cell_type": "code",
   "execution_count": 6,
   "metadata": {
    "collapsed": true
   },
   "outputs": [],
   "source": [
    "brand = data[['device_id','brand']].set_index('device_id')\n",
    "model = data[['device_id','model']].set_index('device_id')\n",
    "btype = data[['device_id','btype']].set_index('device_id')\n",
    "\n",
    "brand = pd.get_dummies(brand).reset_index()\n",
    "model = pd.get_dummies(model).reset_index()\n",
    "btype = pd.get_dummies(btype).reset_index()"
   ]
  },
  {
   "cell_type": "code",
   "execution_count": 7,
   "metadata": {},
   "outputs": [
    {
     "data": {
      "text/plain": [
       "((72727, 457), (72727, 2133), (72727, 2473))"
      ]
     },
     "execution_count": 7,
     "metadata": {},
     "output_type": "execute_result"
    }
   ],
   "source": [
    "brand.shape, model.shape, btype.shape"
   ]
  },
  {
   "cell_type": "markdown",
   "metadata": {},
   "source": [
    "brand Labelencode"
   ]
  },
  {
   "cell_type": "code",
   "execution_count": 11,
   "metadata": {
    "collapsed": true
   },
   "outputs": [],
   "source": [
    "data.drop(['label'], axis=1, inplace=True)\n",
    "\n",
    "data['brand'] = pd.Categorical(data.brand).codes\n",
    "\n",
    "data['model'] = pd.Categorical(data.model).codes\n",
    "\n",
    "data['btype'] = pd.Categorical(data.btype).codes\n",
    "\n",
    "data.to_csv('new_feature/brand_lencode.csv',index=False)"
   ]
  },
  {
   "cell_type": "markdown",
   "metadata": {},
   "source": [
    "### brand+model+btype"
   ]
  },
  {
   "cell_type": "code",
   "execution_count": 12,
   "metadata": {
    "collapsed": true
   },
   "outputs": [],
   "source": [
    "data = brand.merge(model, on='device_id', how='left')\n",
    "data = data.merge(btype, on='device_id', how='left')"
   ]
  },
  {
   "cell_type": "code",
   "execution_count": 15,
   "metadata": {
    "collapsed": true
   },
   "outputs": [],
   "source": [
    "data.to_csv('new_feature/brand_onehot.csv',index=False)"
   ]
  },
  {
   "cell_type": "code",
   "execution_count": 17,
   "metadata": {
    "collapsed": true
   },
   "outputs": [],
   "source": [
    "svd(brand, model, btype)\n",
    "\n",
    "svd100 = TruncatedSVD(n_components=100, n_iter=15, random_state=666)\n",
    "\n",
    "brand_100 = pd.DataFrame(svd100.fit_transform(data.iloc[:,1:]))\n",
    "brand_100['device_id'] = data.device_id.values\n",
    "\n",
    "brand_100.to_csv('new_feature/brand100.csv',index=False)"
   ]
  }
 ],
 "metadata": {
  "kernelspec": {
   "display_name": "Python [conda env:python35]",
   "language": "python",
   "name": "conda-env-python35-py"
  },
  "language_info": {
   "codemirror_mode": {
    "name": "ipython",
    "version": 3
   },
   "file_extension": ".py",
   "mimetype": "text/x-python",
   "name": "python",
   "nbconvert_exporter": "python",
   "pygments_lexer": "ipython3",
   "version": "3.5.3"
  }
 },
 "nbformat": 4,
 "nbformat_minor": 2
}
