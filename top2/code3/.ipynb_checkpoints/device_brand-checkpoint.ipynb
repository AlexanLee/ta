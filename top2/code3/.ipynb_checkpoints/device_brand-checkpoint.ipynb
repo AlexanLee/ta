{
 "cells": [
  {
   "cell_type": "code",
   "execution_count": 1,
   "metadata": {
    "collapsed": true
   },
   "outputs": [],
   "source": [
    "import numpy as np\n",
    "import pandas as pd\n",
    "import matplotlib.pyplot as plt\n",
    "import warnings\n",
    "warnings.filterwarnings('ignore')\n",
    "%matplotlib inline"
   ]
  },
  {
   "cell_type": "markdown",
   "metadata": {},
   "source": [
    "机型数据：每个设备的品牌和型号【deviceid_brand.tsv】"
   ]
  },
  {
   "cell_type": "code",
   "execution_count": 2,
   "metadata": {
    "collapsed": true
   },
   "outputs": [],
   "source": [
    "train_data = pd.read_csv('../Demo/deviceid_train.tsv',sep='\\t',\n",
    "                         names=['device_id','sex','age'])\n",
    "test_data = pd.read_csv('../Demo/deviceid_test.tsv',sep='\\t',names=['device_id'])"
   ]
  },
  {
   "cell_type": "code",
   "execution_count": 3,
   "metadata": {
    "collapsed": true
   },
   "outputs": [],
   "source": [
    "device_brand = pd.read_csv('../Demo/deviceid_brand.tsv',sep='\\t',\n",
    "                           names=['device_id','brand','model'])"
   ]
  },
  {
   "cell_type": "markdown",
   "metadata": {},
   "source": [
    "label =  sex+age, one-hot encode"
   ]
  },
  {
   "cell_type": "code",
   "execution_count": 4,
   "metadata": {
    "collapsed": true
   },
   "outputs": [],
   "source": [
    "train_data['label'] = train_data.sex.astype(str)+'-'+train_data.age.astype(str)\n",
    "\n",
    "labelencode_dict = {}\n",
    "labels = ['1-0', '1-1', '1-2', '1-3', '1-4', '1-5', '1-6', '1-7','1-8', '1-9', '1-10',\n",
    "          '2-0', '2-1', '2-2', '2-3','2-4', '2-5', '2-6', '2-7', '2-8', '2-9', '2-10']\n",
    "for i,label in enumerate(labels):\n",
    "    labelencode_dict[label] = i\n",
    "#--------------------------\n",
    "train_data.label.replace(labelencode_dict,inplace=True)"
   ]
  },
  {
   "cell_type": "markdown",
   "metadata": {},
   "source": [
    "### clean brand"
   ]
  },
  {
   "cell_type": "code",
   "execution_count": 5,
   "metadata": {
    "collapsed": true
   },
   "outputs": [],
   "source": [
    "device_brand.brand = device_brand.brand.apply(lambda x:x.split(' ')[0])\n",
    "\n",
    "# huawei\n",
    "device_brand.brand.replace({'HUAWEI':'Huawei','huawei':'Huawei',u'华为':'Huawei',\n",
    "                            'MediaPad':'Huawei'},inplace=True)\n",
    "device_brand.brand.replace(regex=r'^HUAWE.*$',value='Huawei',inplace=True)\n",
    "\n",
    "# htc\n",
    "device_brand.brand.replace(regex={'HTC':'htc',r'^htc.*$':'htc'},inplace=True)\n",
    "device_brand.brand.replace({'HTL23':'htc'},inplace=True)\n",
    "\n",
    "# iphone\n",
    "device_brand.brand.replace({'Apple':'iphone','X-apple':'iphone','iPhone':'iphone',\n",
    "                            'APPLE':'iphone','6s':'iphone','6plus':'iphone'},inplace=True)\n",
    "\n",
    "# samsung\n",
    "device_brand.brand.replace(regex=[r'^SM.*$',r'^GT.*$',r'^SC.*$',r'^SHV.*$',r'^A[6-9].*$',\n",
    "                                  r'^SAMSUN.*$'],value='samsung',inplace=True)\n",
    "device_brand.brand.replace({'Samsung':'samsung','Galaxy':'samsung',u'三星':'samsung',\n",
    "                            'I9300':'samsung','J5':'samsung','SL600':'samsung'},inplace=True)\n",
    "\n",
    "# Xiaomi ,HM\n",
    "device_brand.brand.replace(regex=[r'^MI.*$',r'^UIMI.*$',r'^m[1-9].*$'],value='Xiaomi',inplace=True)\n",
    "device_brand.brand.replace(regex=[r'^HM.*$',r'^2014.*$',r'^2013.*$'],value='HM',inplace=True)\n",
    "device_brand.brand.replace({'A5-MI8':'Xiaomi'},inplace=True)\n",
    "\n",
    "# Honor\n",
    "device_brand.brand.replace(regex=[r'^PE.*$',r'^CHM.*$',r'^H60.*$',r'^H30.*$',r'^Hol.*$',\n",
    "                                  r'^Che.*$',r'^CHE.*$',r'^G6.*$',r'^T1.*$'],value='Honor',\n",
    "                           inplace=True)\n",
    "device_brand.brand.replace({'HONOR':'Honor','S8-701u':'Honor'},inplace=True)\n",
    "\n",
    "# Verizon\n",
    "device_brand.brand.replace({'VERIZON':'Verizon'},inplace=True)\n",
    "device_brand.brand.replace(regex=r'^verizo.*$',value='Verizon',inplace=True)\n",
    "\n",
    "# ZTE\n",
    "device_brand.brand.replace({'zte':'ZTE','N918St':'ZTE','N958St':'ZTE'},inplace=True)\n",
    "\n",
    "# OPPO\n",
    "device_brand.brand.replace(regex=[r'^A1.*$',r'^A3.*$',r'^R[2|5|6|7|8].*$',r'^T9',\n",
    "                                  r'^X9.*$',r'^N5.*$',r'^110.$',r'^300[0-9]',r'^660.*$'],\n",
    "                           value='OPPO',inplace=True)\n",
    "device_brand.brand.replace({'N1T':'OPPO','N1W':'OPPO'},inplace=True)\n",
    "\n",
    "# nubia\n",
    "device_brand.brand.replace(regex=r'^NX.*$',value='nubia',inplace=True)\n",
    "\n",
    "# Bird\n",
    "device_brand.brand.replace({'BIRD':'Bird'},inplace=True)\n",
    "\n",
    "# Meizu\n",
    "device_brand.brand.replace(regex=[r'^MX[0-9].*$',r'^M[0-9][0-9][0-9].*$'],value='Meizu',\n",
    "                          inplace=True)\n",
    "\n",
    "# motorala\n",
    "device_brand.brand.replace({'MOTO':'motorola','MT788':'motorola','Moto':'motorola'},inplace=True)\n",
    "\n",
    "# Hisense\n",
    "device_brand.brand.replace({'hisense':'Hisense','F5180':'Hisense'},inplace=True)\n",
    "device_brand.brand.replace(regex=[r'^HS-T.*$',r'^HS-U.*$',r'^HS-X.*$'],value='Hisense',inplace=True)\n",
    "\n",
    "# xiaolajiao\n",
    "device_brand.brand.replace(regex=[r'^LA.*$'], value='xiaolajiao',inplace=True)\n",
    "device_brand.brand.replace({'HLJ-XL':'xiaolajiao'},inplace=True)\n",
    "\n",
    "# Nokia\n",
    "device_brand.brand.replace({'Nokia_XL':'Nokia','N900':'Nokia'},inplace=True)\n",
    "\n",
    "# ONEPLUS\n",
    "device_brand.brand.replace({'oneplus':'ONEPLUS','A0001':'ONEPLUS'},inplace=True)\n",
    "\n",
    "# Coolpad\n",
    "device_brand.brand.replace(regex=[r'^Coolpad.*$'],value='Coolpad',inplace=True)\n",
    "device_brand.brand.replace({'8085N':'Coolpad','8295':'Coolpad'},inplace=True)\n",
    "\n",
    "# vivo\n",
    "device_brand.brand.replace(regex=[r'^viv.*$',r'^VIV.*$'],value='vivo',inplace=True)\n",
    "\n",
    "device_brand.brand.replace(regex=r'^4G.*$',value='4G',inplace=True)\n",
    "\n",
    "device_brand.brand.replace({'100Cw':'100jia'},inplace=True)\n",
    "\n",
    "# asus\n",
    "device_brand.brand.replace(regex=r'^ASUS.*$',value='asus',inplace=True)\n",
    "\n",
    "device_brand.brand.replace(regex=r'^BOWA.*$',value='BOWAY',inplace=True)\n",
    "\n",
    "device_brand.brand.replace(regex=r'^Bamboo.*$',value='Bambook',inplace=True)\n",
    "\n",
    "# bifer\n",
    "device_brand.brand.replace(regex=r'^BF.*$',value='bifer',inplace=True)"
   ]
  },
  {
   "cell_type": "markdown",
   "metadata": {},
   "source": [
    "### clean model"
   ]
  },
  {
   "cell_type": "code",
   "execution_count": 6,
   "metadata": {
    "collapsed": true
   },
   "outputs": [],
   "source": [
    "device_brand.model = device_brand.model.astype('str')\n",
    "device_brand.model = device_brand.model.apply(lambda x:x.split(' ')[-1])\n",
    "device_brand.model = device_brand.model.apply(lambda x:x.split('.')[0])"
   ]
  },
  {
   "cell_type": "code",
   "execution_count": 7,
   "metadata": {
    "collapsed": true
   },
   "outputs": [],
   "source": [
    "device_brand['btype'] = device_brand.brand+'_'+device_brand.model"
   ]
  },
  {
   "cell_type": "code",
   "execution_count": 12,
   "metadata": {
    "collapsed": true
   },
   "outputs": [],
   "source": [
    "device_brand.to_csv('new_feature/device_brand.csv',index=False)"
   ]
  }
 ],
 "metadata": {
  "kernelspec": {
   "display_name": "Python [conda env:python35]",
   "language": "python",
   "name": "conda-env-python35-py"
  },
  "language_info": {
   "codemirror_mode": {
    "name": "ipython",
    "version": 3
   },
   "file_extension": ".py",
   "mimetype": "text/x-python",
   "name": "python",
   "nbconvert_exporter": "python",
   "pygments_lexer": "ipython3",
   "version": "3.5.3"
  }
 },
 "nbformat": 4,
 "nbformat_minor": 2
}
