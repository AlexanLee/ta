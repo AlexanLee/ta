{
 "cells": [
  {
   "cell_type": "code",
   "execution_count": 2,
   "metadata": {
    "collapsed": true
   },
   "outputs": [],
   "source": [
    "import gc\n",
    "import pandas as pd\n",
    "import numpy as np\n",
    "import lightgbm as lgb\n",
    "import matplotlib.pyplot as plt\n",
    "from sklearn.model_selection import KFold,StratifiedKFold,train_test_split\n",
    "from sklearn.metrics import log_loss\n",
    "from sklearn.neural_network import MLPClassifier\n",
    "import warnings\n",
    "warnings.filterwarnings('ignore')\n",
    "%matplotlib inline"
   ]
  },
  {
   "cell_type": "code",
   "execution_count": 3,
   "metadata": {
    "collapsed": true
   },
   "outputs": [],
   "source": [
    "applist = pd.read_csv('new_feature/applist_tfidf.csv')\n",
    "labelcnt = pd.read_csv('new_feature/label_tfidf.csv')\n",
    "brand = pd.read_csv('new_feature/brand_lencode.csv')\n",
    "h1 = pd.read_csv('new_feature/h1_feature.csv')\n",
    "h2 = pd.read_csv('new_feature/h2_tfidf300.csv')"
   ]
  },
  {
   "cell_type": "markdown",
   "metadata": {},
   "source": [
    "```python\n",
    "time = pd.read_csv('new_feature/time_feature.csv')\n",
    "time.drop(['gender','age'],axis=1,inplace=True)\n",
    "time.rename(index=str, columns={'uid':'device_id'},inplace=True)\n",
    "```"
   ]
  },
  {
   "cell_type": "code",
   "execution_count": 4,
   "metadata": {
    "collapsed": true
   },
   "outputs": [],
   "source": [
    "train_data = pd.read_csv('../Demo/deviceid_train.tsv',sep='\\t',names=['device_id','sex','age'])\n",
    "test_data = pd.read_csv('../Demo/deviceid_test.tsv',sep='\\t',names=['device_id'])\n",
    "\n",
    "train_data['label'] = train_data.sex.astype(str)+'-'+train_data.age.astype(str)\n",
    "\n",
    "labelencode_dict = {}\n",
    "labels = ['1-0', '1-1', '1-2', '1-3', '1-4', '1-5', '1-6', '1-7','1-8', '1-9', '1-10',\n",
    "          '2-0', '2-1', '2-2', '2-3','2-4', '2-5', '2-6', '2-7', '2-8', '2-9', '2-10']\n",
    "for i,label in enumerate(labels):\n",
    "    labelencode_dict[label] = i\n",
    "#--------------------------\n",
    "train_data.label.replace(labelencode_dict,inplace=True)"
   ]
  },
  {
   "cell_type": "markdown",
   "metadata": {},
   "source": [
    "---------------------------------------------\n",
    "# Feature select"
   ]
  },
  {
   "cell_type": "code",
   "execution_count": null,
   "metadata": {
    "collapsed": true
   },
   "outputs": [],
   "source": [
    "def FeatureSelect(train_data, label='label', num_class=22, obj='multiclass',\n",
    "                  metric='multi_logloss'):\n",
    "    # binary   , binary_logloss\n",
    "    model = lgb.LGBMClassifier(boosting_type='gbdt',n_estimators=1000, colsample_bytree=1,\n",
    "                               objective = obj,max_depth=3,learning_rate = 0.1,\n",
    "                               num_leaves =31, num_class=num_class,reg_lambda = 1.,\n",
    "                               reg_alpha = 1, n_jobs = -1,random_state = 8082)\n",
    "    # split train valid data\n",
    "    y = train_data[[label]]\n",
    "    data = train_data.drop(['device_id','sex','age','label'],axis=1)\n",
    "    x_train, x_valid, y_train, y_valid = train_test_split(data, y, test_size=0.1,random_state=666)\n",
    "    # fit\n",
    "    model.fit(x_train, y_train, eval_metric = metric,\n",
    "              eval_set = [(x_train, y_train),(x_valid, y_valid)],\n",
    "              eval_names = ['train','valid'],\n",
    "              early_stopping_rounds = 10, verbose = 0) \n",
    "    feature_importance = pd.DataFrame()\n",
    "    feature_importance['feature'] = x_train.columns.values\n",
    "    feature_importance['importrance'] = model.feature_importances_\n",
    "    useless_feature = feature_importance[feature_importance.importrance==0].feature.tolist()\n",
    "    return useless_feature\n",
    "\n",
    "## CV train"
   ]
  },
  {
   "cell_type": "code",
   "execution_count": null,
   "metadata": {
    "collapsed": true
   },
   "outputs": [],
   "source": [
    "def model(train_data, test_data,label, num_class, n_folds = 10,\n",
    "         obj='multiclass',metric='multi_logloss'):\n",
    "    \n",
    "    #binary ; log_loss\n",
    "    labels = train_data[[label]]\n",
    "    train_data = train_data.drop(['device_id','sex','age','label'],axis=1)\n",
    "    test_data = test_data.drop(['device_id'],axis=1)\n",
    "    # 10 folds cross validation\n",
    "    KF = KFold(n_splits = n_folds, shuffle = True, random_state = 2018)\n",
    "    # test predictions\n",
    "    test_predictions = np.zeros((test_data.shape[0],nclass))\n",
    "    # validation predictions\n",
    "    out_of_fold = np.zeros((train_data.shape[0],nclass))\n",
    "    # record scores : logloss\n",
    "    train_logloss = []\n",
    "    valid_logloss = []\n",
    "    # Iterate through each fold\n",
    "    for train_indices, valid_indices in KF.split(train_data):\n",
    "        # Training data for the fold\n",
    "        train_features = train_data.loc[train_indices, :]\n",
    "        train_labels = labels.loc[train_indices, :]\n",
    "        # Validation data for the fold\n",
    "        valid_features = train_data.loc[valid_indices, :]\n",
    "        valid_labels = labels.loc[valid_indices, :]\n",
    "        # Create the model\n",
    "        model = lgb.LGBMClassifier(boosting_type='gbdt',n_estimators=1000, \n",
    "                                   objective = obj ,max_depth=3,\n",
    "                                   learning_rate = 0.1,  num_leaves =31,num_class=num_class,\n",
    "                                   reg_lambda = 1.,reg_alpha = 1,\n",
    "                                   subsample = 1., n_jobs = -1, random_state = 8082)\n",
    "\n",
    "        # Train the model\n",
    "        model.fit(train_features, train_labels, eval_metric = metric,\n",
    "                  eval_set = [(valid_features, valid_labels), (train_features, train_labels)],\n",
    "                  eval_names = ['valid', 'train'], #categorical_feature =['brand','type','btype'],\n",
    "                  early_stopping_rounds = 10, verbose = 0)\n",
    "        # Record the best iteration\n",
    "        best_iteration = model.best_iteration_\n",
    "        # test result\n",
    "        test_predictions+= model.predict_proba(test_data, num_iteration = best_iteration)/n_folds\n",
    "        # valid result\n",
    "        pred_valid = model.predict_proba(valid_features, num_iteration = best_iteration)\n",
    "        # Record the best multi logloss\n",
    "        valid_score = model.best_score_['valid'][metric]\n",
    "        train_score = model.best_score_['train'][metric]\n",
    "        valid_logloss.append(valid_score)\n",
    "        train_logloss.append(train_score)\n",
    "        # validation set result\n",
    "        out_of_fold[valid_indices] = pred_valid\n",
    "        #print('train loss is : %.5f  |  valid loss is : %.5f'%(train_score,valid_score))\n",
    "        # Clean up memory\n",
    "        gc.enable()\n",
    "        del model, train_features, valid_features\n",
    "        gc.collect()\n",
    "    # overall valida\n",
    "    valid_logloss.append(np.mean(valid_logloss))\n",
    "    train_logloss.append(np.mean(train_logloss))\n",
    "    # dataframe of validation scores\n",
    "    fold_names = list(range(n_folds))\n",
    "    fold_names.append('overall')\n",
    "    # Dataframe of validation scores\n",
    "    metrics = pd.DataFrame({'fold': fold_names,\n",
    "                            'train_logloss':train_logloss,\n",
    "                            'valid_logloss':valid_logloss})\n",
    "    return metrics,out_of_fold,test_predictions"
   ]
  },
  {
   "cell_type": "code",
   "execution_count": 7,
   "metadata": {
    "collapsed": true
   },
   "outputs": [],
   "source": [
    "def TrainCode(data, label, num_class, nfolds=10,obj='multiclass',\n",
    "              metric='multi_logloss'):\n",
    "    train = train_data.merge(data, on='device_id',how='left')\n",
    "    test = test_data.merge(data, on='device_id', how='left')\n",
    "    useless_feature = FeatureSelect(train, label, num_class, obj, metric)\n",
    "    train.drop(useless_feature, axis=1, inplace=True)\n",
    "    test.drop(useless_feature, axis=1, inplace=True)\n",
    "    metric, train_prob,test_prob = model(train, test,label,num_class,nfolds,obj,metric)\n",
    "    return metric, train_prob, test_prob"
   ]
  },
  {
   "cell_type": "markdown",
   "metadata": {},
   "source": [
    "-------------------\n",
    "applist+labelcnt"
   ]
  },
  {
   "cell_type": "code",
   "execution_count": 18,
   "metadata": {
    "collapsed": true
   },
   "outputs": [],
   "source": [
    "data = applist.merge(brand, on='device_id', how='left')\n",
    "mertic, train_prob, test_prob = TrainCode(data, 'label', 22, 10)"
   ]
  },
  {
   "cell_type": "code",
   "execution_count": 24,
   "metadata": {
    "collapsed": true
   },
   "outputs": [],
   "source": [
    "np.save('new_feature2/abtf_train.npy',train_prob)\n",
    "np.save('new_feature2/abtf_test.npy',test_prob)"
   ]
  },
  {
   "cell_type": "markdown",
   "metadata": {},
   "source": [
    "h1+h2"
   ]
  },
  {
   "cell_type": "code",
   "execution_count": 25,
   "metadata": {
    "collapsed": true
   },
   "outputs": [],
   "source": [
    "data = h1.merge(h1, on='device_id', how='left')"
   ]
  },
  {
   "cell_type": "code",
   "execution_count": 27,
   "metadata": {
    "collapsed": true
   },
   "outputs": [],
   "source": [
    "metric, train_prob, test_prob = TrainCode(data, 'label', 22, 10)"
   ]
  },
  {
   "cell_type": "code",
   "execution_count": 29,
   "metadata": {
    "collapsed": true
   },
   "outputs": [],
   "source": [
    "np.save('new_feature2/h12tf_train.npy', train_prob)\n",
    "np.save('new_feature2/h12tf_test.npy', test_prob)"
   ]
  },
  {
   "cell_type": "code",
   "execution_count": 28,
   "metadata": {},
   "outputs": [
    {
     "data": {
      "text/html": [
       "<div>\n",
       "<style>\n",
       "    .dataframe thead tr:only-child th {\n",
       "        text-align: right;\n",
       "    }\n",
       "\n",
       "    .dataframe thead th {\n",
       "        text-align: left;\n",
       "    }\n",
       "\n",
       "    .dataframe tbody tr th {\n",
       "        vertical-align: top;\n",
       "    }\n",
       "</style>\n",
       "<table border=\"1\" class=\"dataframe\">\n",
       "  <thead>\n",
       "    <tr style=\"text-align: right;\">\n",
       "      <th></th>\n",
       "      <th>fold</th>\n",
       "      <th>train_logloss</th>\n",
       "      <th>valid_logloss</th>\n",
       "    </tr>\n",
       "  </thead>\n",
       "  <tbody>\n",
       "    <tr>\n",
       "      <th>0</th>\n",
       "      <td>0</td>\n",
       "      <td>2.677926</td>\n",
       "      <td>2.811654</td>\n",
       "    </tr>\n",
       "    <tr>\n",
       "      <th>1</th>\n",
       "      <td>1</td>\n",
       "      <td>2.652076</td>\n",
       "      <td>2.799392</td>\n",
       "    </tr>\n",
       "    <tr>\n",
       "      <th>2</th>\n",
       "      <td>2</td>\n",
       "      <td>2.665971</td>\n",
       "      <td>2.798467</td>\n",
       "    </tr>\n",
       "    <tr>\n",
       "      <th>3</th>\n",
       "      <td>3</td>\n",
       "      <td>2.657924</td>\n",
       "      <td>2.799377</td>\n",
       "    </tr>\n",
       "    <tr>\n",
       "      <th>4</th>\n",
       "      <td>4</td>\n",
       "      <td>2.673571</td>\n",
       "      <td>2.793739</td>\n",
       "    </tr>\n",
       "    <tr>\n",
       "      <th>5</th>\n",
       "      <td>5</td>\n",
       "      <td>2.671407</td>\n",
       "      <td>2.790646</td>\n",
       "    </tr>\n",
       "    <tr>\n",
       "      <th>6</th>\n",
       "      <td>6</td>\n",
       "      <td>2.665319</td>\n",
       "      <td>2.804926</td>\n",
       "    </tr>\n",
       "    <tr>\n",
       "      <th>7</th>\n",
       "      <td>7</td>\n",
       "      <td>2.669617</td>\n",
       "      <td>2.803382</td>\n",
       "    </tr>\n",
       "    <tr>\n",
       "      <th>8</th>\n",
       "      <td>8</td>\n",
       "      <td>2.679048</td>\n",
       "      <td>2.797487</td>\n",
       "    </tr>\n",
       "    <tr>\n",
       "      <th>9</th>\n",
       "      <td>9</td>\n",
       "      <td>2.654924</td>\n",
       "      <td>2.784692</td>\n",
       "    </tr>\n",
       "    <tr>\n",
       "      <th>10</th>\n",
       "      <td>overall</td>\n",
       "      <td>2.666778</td>\n",
       "      <td>2.798376</td>\n",
       "    </tr>\n",
       "  </tbody>\n",
       "</table>\n",
       "</div>"
      ],
      "text/plain": [
       "       fold  train_logloss  valid_logloss\n",
       "0         0       2.677926       2.811654\n",
       "1         1       2.652076       2.799392\n",
       "2         2       2.665971       2.798467\n",
       "3         3       2.657924       2.799377\n",
       "4         4       2.673571       2.793739\n",
       "5         5       2.671407       2.790646\n",
       "6         6       2.665319       2.804926\n",
       "7         7       2.669617       2.803382\n",
       "8         8       2.679048       2.797487\n",
       "9         9       2.654924       2.784692\n",
       "10  overall       2.666778       2.798376"
      ]
     },
     "execution_count": 28,
     "metadata": {},
     "output_type": "execute_result"
    }
   ],
   "source": [
    "metric"
   ]
  },
  {
   "cell_type": "markdown",
   "metadata": {},
   "source": [
    "applist+h2"
   ]
  },
  {
   "cell_type": "code",
   "execution_count": 8,
   "metadata": {
    "collapsed": true
   },
   "outputs": [],
   "source": [
    "data = applist.merge(h2, on='device_id', how='left')\n",
    "metric, train_prob, test_prob = TrainCode(data, 'label', 22, 10)"
   ]
  },
  {
   "cell_type": "code",
   "execution_count": 10,
   "metadata": {
    "collapsed": true
   },
   "outputs": [],
   "source": [
    "np.save('new_feature2/ah2cnt_train.npy',train_prob)\n",
    "np.save('new_feature2/ah2cnt_test.npy',test_prob)"
   ]
  },
  {
   "cell_type": "code",
   "execution_count": null,
   "metadata": {
    "collapsed": true
   },
   "outputs": [],
   "source": []
  }
 ],
 "metadata": {
  "kernelspec": {
   "display_name": "Python [conda env:python35]",
   "language": "python",
   "name": "conda-env-python35-py"
  },
  "language_info": {
   "codemirror_mode": {
    "name": "ipython",
    "version": 3
   },
   "file_extension": ".py",
   "mimetype": "text/x-python",
   "name": "python",
   "nbconvert_exporter": "python",
   "pygments_lexer": "ipython3",
   "version": "3.5.3"
  }
 },
 "nbformat": 4,
 "nbformat_minor": 2
}
