{
 "cells": [
  {
   "cell_type": "code",
   "execution_count": 1,
   "metadata": {
    "collapsed": true
   },
   "outputs": [],
   "source": [
    "import numpy as np\n",
    "import pandas as pd\n",
    "import matplotlib.pyplot as plt\n",
    "from sklearn.feature_extraction.text import CountVectorizer\n",
    "from sklearn.feature_extraction.text import TfidfTransformer\n",
    "from sklearn.decomposition import TruncatedSVD\n",
    "%matplotlib inline"
   ]
  },
  {
   "cell_type": "markdown",
   "metadata": {},
   "source": [
    " 设备数据：每个设备上的应用安装列表，设备应用名都进行了hash处理【deviceid_packages.tsv】"
   ]
  },
  {
   "cell_type": "code",
   "execution_count": 2,
   "metadata": {
    "collapsed": true
   },
   "outputs": [],
   "source": [
    "device_applist = pd.read_csv('../Demo/deviceid_packages.tsv',sep='\\t',\n",
    "                             names=['device_id','app_names'])"
   ]
  },
  {
   "cell_type": "code",
   "execution_count": 3,
   "metadata": {
    "collapsed": true
   },
   "outputs": [],
   "source": [
    "device_applist['app_names']=device_applist['app_names'].apply(lambda x:x.split(','))\n",
    "device_applist['app_count']=device_applist['app_names'].apply(lambda x:len(x))\n",
    "\n",
    "vectorizer=CountVectorizer()\n",
    "transformer=TfidfTransformer()\n",
    "\n",
    "# 所有设备的应用安装列表\n",
    "apps = device_applist['app_names'].apply(lambda x:' '.join(x)).tolist()\n",
    "\n",
    "# 设备安装应用稀疏矩阵\n",
    "cntTf = vectorizer.fit_transform(apps)\n",
    "\n",
    "# tfidf权重\n",
    "tfidf=transformer.fit_transform(cntTf)"
   ]
  },
  {
   "cell_type": "code",
   "execution_count": 4,
   "metadata": {
    "collapsed": true
   },
   "outputs": [],
   "source": [
    "#lda = LatentDirichletAllocation(n_components=5, learning_offset=50., random_state=888,n_jobs=-1,\n",
    "                                #learning_method='online')\n",
    "svd = TruncatedSVD(n_components=550, n_iter=15, random_state=666)"
   ]
  },
  {
   "cell_type": "code",
   "execution_count": 7,
   "metadata": {
    "collapsed": true
   },
   "outputs": [],
   "source": [
    "app_cnt = svd.fit_transform(cntTf)\n",
    "f_names = ['svd-'+str(x) for x in range(550)]\n",
    "app_cnt = pd.DataFrame(app_cnt,columns=f_names)\n",
    "app_cnt['device_id'] = device_applist.device_id.values"
   ]
  },
  {
   "cell_type": "code",
   "execution_count": 12,
   "metadata": {
    "collapsed": true
   },
   "outputs": [],
   "source": [
    "app_tfidf = svd.fit_transform(tfidf)\n",
    "f_names = ['tfidf'+str(x) for x in range(550)]\n",
    "app_tfidf = pd.DataFrame(app_tfidf, columns=f_names)\n",
    "app_tfidf['device_id'] = device_applist.device_id.values\n",
    "\n",
    "app_cnt.to_csv('new_feature/applist_cnt.csv',index=False)\n",
    "app_tfidf.to_csv('new_feature/applist_tfidf.csv',index=False)"
   ]
  },
  {
   "cell_type": "code",
   "execution_count": 13,
   "metadata": {},
   "outputs": [
    {
     "name": "stdout",
     "output_type": "stream",
     "text": [
      "<class 'pandas.core.frame.DataFrame'>\n",
      "RangeIndex: 72727 entries, 0 to 72726\n",
      "Columns: 551 entries, svd-0 to device_id\n",
      "dtypes: float64(550), object(1)\n",
      "memory usage: 305.7+ MB\n"
     ]
    }
   ],
   "source": [
    "app_cnt.info()"
   ]
  }
 ],
 "metadata": {
  "kernelspec": {
   "display_name": "Python [conda env:python35]",
   "language": "python",
   "name": "conda-env-python35-py"
  },
  "language_info": {
   "codemirror_mode": {
    "name": "ipython",
    "version": 3
   },
   "file_extension": ".py",
   "mimetype": "text/x-python",
   "name": "python",
   "nbconvert_exporter": "python",
   "pygments_lexer": "ipython3",
   "version": "3.5.3"
  }
 },
 "nbformat": 4,
 "nbformat_minor": 2
}
